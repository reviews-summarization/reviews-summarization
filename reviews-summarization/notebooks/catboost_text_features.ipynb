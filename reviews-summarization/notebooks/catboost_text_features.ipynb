{
 "cells": [
  {
   "cell_type": "code",
   "execution_count": 4,
   "metadata": {},
   "outputs": [
    {
     "name": "stdout",
     "output_type": "stream",
     "text": [
      "Defaulting to user installation because normal site-packages is not writeable\n",
      "Collecting catboost\n",
      "  Downloading catboost-1.2.5-cp39-cp39-macosx_11_0_universal2.whl.metadata (1.2 kB)\n",
      "Requirement already satisfied: scikit-learn in /Users/gyzavyalov/Library/Python/3.9/lib/python/site-packages (1.2.2)\n",
      "Requirement already satisfied: ipywidgets in /Users/gyzavyalov/Library/Python/3.9/lib/python/site-packages (8.1.2)\n",
      "Requirement already satisfied: ipython in /Users/gyzavyalov/Library/Python/3.9/lib/python/site-packages (8.11.0)\n",
      "Requirement already satisfied: transformers in /Users/gyzavyalov/Library/Python/3.9/lib/python/site-packages (4.29.0)\n",
      "Collecting graphviz (from catboost)\n",
      "  Using cached graphviz-0.20.3-py3-none-any.whl.metadata (12 kB)\n",
      "Requirement already satisfied: matplotlib in /Users/gyzavyalov/Library/Python/3.9/lib/python/site-packages (from catboost) (3.7.1)\n",
      "Requirement already satisfied: numpy>=1.16.0 in /Users/gyzavyalov/Library/Python/3.9/lib/python/site-packages (from catboost) (1.26.4)\n",
      "Requirement already satisfied: pandas>=0.24 in /Users/gyzavyalov/Library/Python/3.9/lib/python/site-packages (from catboost) (1.5.3)\n",
      "Requirement already satisfied: scipy in /Users/gyzavyalov/Library/Python/3.9/lib/python/site-packages (from catboost) (1.12.0)\n",
      "Collecting plotly (from catboost)\n",
      "  Using cached plotly-5.22.0-py3-none-any.whl.metadata (7.1 kB)\n",
      "Requirement already satisfied: six in /Applications/Xcode-15.2.app/Contents/Developer/Library/Frameworks/Python3.framework/Versions/3.9/lib/python3.9/site-packages (from catboost) (1.15.0)\n",
      "Requirement already satisfied: joblib>=1.1.1 in /Users/gyzavyalov/Library/Python/3.9/lib/python/site-packages (from scikit-learn) (1.2.0)\n",
      "Requirement already satisfied: threadpoolctl>=2.0.0 in /Users/gyzavyalov/Library/Python/3.9/lib/python/site-packages (from scikit-learn) (3.1.0)\n",
      "Requirement already satisfied: comm>=0.1.3 in /Users/gyzavyalov/Library/Python/3.9/lib/python/site-packages (from ipywidgets) (0.2.2)\n",
      "Requirement already satisfied: traitlets>=4.3.1 in /Users/gyzavyalov/Library/Python/3.9/lib/python/site-packages (from ipywidgets) (5.9.0)\n",
      "Requirement already satisfied: widgetsnbextension~=4.0.10 in /Users/gyzavyalov/Library/Python/3.9/lib/python/site-packages (from ipywidgets) (4.0.10)\n",
      "Requirement already satisfied: jupyterlab-widgets~=3.0.10 in /Users/gyzavyalov/Library/Python/3.9/lib/python/site-packages (from ipywidgets) (3.0.10)\n",
      "Requirement already satisfied: backcall in /Users/gyzavyalov/Library/Python/3.9/lib/python/site-packages (from ipython) (0.2.0)\n",
      "Requirement already satisfied: decorator in /Users/gyzavyalov/Library/Python/3.9/lib/python/site-packages (from ipython) (5.1.1)\n",
      "Requirement already satisfied: jedi>=0.16 in /Users/gyzavyalov/Library/Python/3.9/lib/python/site-packages (from ipython) (0.18.2)\n",
      "Requirement already satisfied: matplotlib-inline in /Users/gyzavyalov/Library/Python/3.9/lib/python/site-packages (from ipython) (0.1.6)\n",
      "Requirement already satisfied: pickleshare in /Users/gyzavyalov/Library/Python/3.9/lib/python/site-packages (from ipython) (0.7.5)\n",
      "Requirement already satisfied: prompt-toolkit!=3.0.37,<3.1.0,>=3.0.30 in /Users/gyzavyalov/Library/Python/3.9/lib/python/site-packages (from ipython) (3.0.38)\n",
      "Requirement already satisfied: pygments>=2.4.0 in /Users/gyzavyalov/Library/Python/3.9/lib/python/site-packages (from ipython) (2.14.0)\n",
      "Requirement already satisfied: stack-data in /Users/gyzavyalov/Library/Python/3.9/lib/python/site-packages (from ipython) (0.6.2)\n",
      "Requirement already satisfied: pexpect>4.3 in /Users/gyzavyalov/Library/Python/3.9/lib/python/site-packages (from ipython) (4.8.0)\n",
      "Requirement already satisfied: appnope in /Users/gyzavyalov/Library/Python/3.9/lib/python/site-packages (from ipython) (0.1.3)\n",
      "Requirement already satisfied: filelock in /Users/gyzavyalov/Library/Python/3.9/lib/python/site-packages (from transformers) (3.13.1)\n",
      "Requirement already satisfied: huggingface-hub<1.0,>=0.11.0 in /Users/gyzavyalov/Library/Python/3.9/lib/python/site-packages (from transformers) (0.22.2)\n",
      "Requirement already satisfied: packaging>=20.0 in /Users/gyzavyalov/Library/Python/3.9/lib/python/site-packages (from transformers) (23.0)\n",
      "Requirement already satisfied: pyyaml>=5.1 in /Users/gyzavyalov/Library/Python/3.9/lib/python/site-packages (from transformers) (5.4.1)\n",
      "Requirement already satisfied: regex!=2019.12.17 in /Users/gyzavyalov/Library/Python/3.9/lib/python/site-packages (from transformers) (2023.5.5)\n",
      "Requirement already satisfied: requests in /Users/gyzavyalov/Library/Python/3.9/lib/python/site-packages (from transformers) (2.28.2)\n",
      "Requirement already satisfied: tokenizers!=0.11.3,<0.14,>=0.11.1 in /Users/gyzavyalov/Library/Python/3.9/lib/python/site-packages (from transformers) (0.13.3)\n",
      "Requirement already satisfied: tqdm>=4.27 in /Users/gyzavyalov/Library/Python/3.9/lib/python/site-packages (from transformers) (4.65.0)\n",
      "Requirement already satisfied: fsspec>=2023.5.0 in /Users/gyzavyalov/Library/Python/3.9/lib/python/site-packages (from huggingface-hub<1.0,>=0.11.0->transformers) (2023.5.0)\n",
      "Requirement already satisfied: typing-extensions>=3.7.4.3 in /Users/gyzavyalov/Library/Python/3.9/lib/python/site-packages (from huggingface-hub<1.0,>=0.11.0->transformers) (4.11.0)\n",
      "Requirement already satisfied: parso<0.9.0,>=0.8.0 in /Users/gyzavyalov/Library/Python/3.9/lib/python/site-packages (from jedi>=0.16->ipython) (0.8.3)\n",
      "Requirement already satisfied: python-dateutil>=2.8.1 in /Users/gyzavyalov/Library/Python/3.9/lib/python/site-packages (from pandas>=0.24->catboost) (2.8.2)\n",
      "Requirement already satisfied: pytz>=2020.1 in /Users/gyzavyalov/Library/Python/3.9/lib/python/site-packages (from pandas>=0.24->catboost) (2022.7.1)\n",
      "Requirement already satisfied: ptyprocess>=0.5 in /Users/gyzavyalov/Library/Python/3.9/lib/python/site-packages (from pexpect>4.3->ipython) (0.7.0)\n",
      "Requirement already satisfied: wcwidth in /Users/gyzavyalov/Library/Python/3.9/lib/python/site-packages (from prompt-toolkit!=3.0.37,<3.1.0,>=3.0.30->ipython) (0.2.6)\n",
      "Requirement already satisfied: contourpy>=1.0.1 in /Users/gyzavyalov/Library/Python/3.9/lib/python/site-packages (from matplotlib->catboost) (1.0.7)\n",
      "Requirement already satisfied: cycler>=0.10 in /Users/gyzavyalov/Library/Python/3.9/lib/python/site-packages (from matplotlib->catboost) (0.11.0)\n",
      "Requirement already satisfied: fonttools>=4.22.0 in /Users/gyzavyalov/Library/Python/3.9/lib/python/site-packages (from matplotlib->catboost) (4.39.2)\n",
      "Requirement already satisfied: kiwisolver>=1.0.1 in /Users/gyzavyalov/Library/Python/3.9/lib/python/site-packages (from matplotlib->catboost) (1.4.4)\n",
      "Requirement already satisfied: pillow>=6.2.0 in /Users/gyzavyalov/Library/Python/3.9/lib/python/site-packages (from matplotlib->catboost) (9.4.0)\n",
      "Requirement already satisfied: pyparsing>=2.3.1 in /Users/gyzavyalov/Library/Python/3.9/lib/python/site-packages (from matplotlib->catboost) (3.0.9)\n",
      "Requirement already satisfied: importlib-resources>=3.2.0 in /Users/gyzavyalov/Library/Python/3.9/lib/python/site-packages (from matplotlib->catboost) (5.12.0)\n",
      "Requirement already satisfied: tenacity>=6.2.0 in /Users/gyzavyalov/Library/Python/3.9/lib/python/site-packages (from plotly->catboost) (8.2.2)\n",
      "Requirement already satisfied: charset-normalizer<4,>=2 in /Users/gyzavyalov/Library/Python/3.9/lib/python/site-packages (from requests->transformers) (3.1.0)\n",
      "Requirement already satisfied: idna<4,>=2.5 in /Users/gyzavyalov/Library/Python/3.9/lib/python/site-packages (from requests->transformers) (3.4)\n",
      "Requirement already satisfied: urllib3<1.27,>=1.21.1 in /Users/gyzavyalov/Library/Python/3.9/lib/python/site-packages (from requests->transformers) (1.26.6)\n",
      "Requirement already satisfied: certifi>=2017.4.17 in /Users/gyzavyalov/Library/Python/3.9/lib/python/site-packages (from requests->transformers) (2022.12.7)\n",
      "Requirement already satisfied: executing>=1.2.0 in /Users/gyzavyalov/Library/Python/3.9/lib/python/site-packages (from stack-data->ipython) (1.2.0)\n",
      "Requirement already satisfied: asttokens>=2.1.0 in /Users/gyzavyalov/Library/Python/3.9/lib/python/site-packages (from stack-data->ipython) (2.2.1)\n",
      "Requirement already satisfied: pure-eval in /Users/gyzavyalov/Library/Python/3.9/lib/python/site-packages (from stack-data->ipython) (0.2.2)\n",
      "Requirement already satisfied: zipp>=3.1.0 in /Users/gyzavyalov/Library/Python/3.9/lib/python/site-packages (from importlib-resources>=3.2.0->matplotlib->catboost) (3.15.0)\n",
      "Downloading catboost-1.2.5-cp39-cp39-macosx_11_0_universal2.whl (26.3 MB)\n",
      "\u001b[2K   \u001b[38;2;114;156;31m━━━━━━━━━━━━━━━━━━━━━━━━━━━━━━━━━━━━━━━━\u001b[0m \u001b[32m26.3/26.3 MB\u001b[0m \u001b[31m24.4 MB/s\u001b[0m eta \u001b[36m0:00:00\u001b[0mm eta \u001b[36m0:00:01\u001b[0m[36m0:00:01\u001b[0m\n",
      "\u001b[?25hUsing cached graphviz-0.20.3-py3-none-any.whl (47 kB)\n",
      "Using cached plotly-5.22.0-py3-none-any.whl (16.4 MB)\n",
      "Installing collected packages: plotly, graphviz, catboost\n",
      "Successfully installed catboost-1.2.5 graphviz-0.20.3 plotly-5.22.0\n",
      "Defaulting to user installation because normal site-packages is not writeable\n",
      "Requirement already satisfied: transformers in /Users/gyzavyalov/Library/Python/3.9/lib/python/site-packages (4.29.0)\n",
      "Requirement already satisfied: filelock in /Users/gyzavyalov/Library/Python/3.9/lib/python/site-packages (from transformers) (3.13.1)\n",
      "Requirement already satisfied: huggingface-hub<1.0,>=0.11.0 in /Users/gyzavyalov/Library/Python/3.9/lib/python/site-packages (from transformers) (0.22.2)\n",
      "Requirement already satisfied: numpy>=1.17 in /Users/gyzavyalov/Library/Python/3.9/lib/python/site-packages (from transformers) (1.26.4)\n",
      "Requirement already satisfied: packaging>=20.0 in /Users/gyzavyalov/Library/Python/3.9/lib/python/site-packages (from transformers) (23.0)\n",
      "Requirement already satisfied: pyyaml>=5.1 in /Users/gyzavyalov/Library/Python/3.9/lib/python/site-packages (from transformers) (5.4.1)\n",
      "Requirement already satisfied: regex!=2019.12.17 in /Users/gyzavyalov/Library/Python/3.9/lib/python/site-packages (from transformers) (2023.5.5)\n",
      "Requirement already satisfied: requests in /Users/gyzavyalov/Library/Python/3.9/lib/python/site-packages (from transformers) (2.28.2)\n",
      "Requirement already satisfied: tokenizers!=0.11.3,<0.14,>=0.11.1 in /Users/gyzavyalov/Library/Python/3.9/lib/python/site-packages (from transformers) (0.13.3)\n",
      "Requirement already satisfied: tqdm>=4.27 in /Users/gyzavyalov/Library/Python/3.9/lib/python/site-packages (from transformers) (4.65.0)\n",
      "Requirement already satisfied: fsspec>=2023.5.0 in /Users/gyzavyalov/Library/Python/3.9/lib/python/site-packages (from huggingface-hub<1.0,>=0.11.0->transformers) (2023.5.0)\n",
      "Requirement already satisfied: typing-extensions>=3.7.4.3 in /Users/gyzavyalov/Library/Python/3.9/lib/python/site-packages (from huggingface-hub<1.0,>=0.11.0->transformers) (4.11.0)\n",
      "Requirement already satisfied: charset-normalizer<4,>=2 in /Users/gyzavyalov/Library/Python/3.9/lib/python/site-packages (from requests->transformers) (3.1.0)\n",
      "Requirement already satisfied: idna<4,>=2.5 in /Users/gyzavyalov/Library/Python/3.9/lib/python/site-packages (from requests->transformers) (3.4)\n",
      "Requirement already satisfied: urllib3<1.27,>=1.21.1 in /Users/gyzavyalov/Library/Python/3.9/lib/python/site-packages (from requests->transformers) (1.26.6)\n",
      "Requirement already satisfied: certifi>=2017.4.17 in /Users/gyzavyalov/Library/Python/3.9/lib/python/site-packages (from requests->transformers) (2022.12.7)\n",
      "Defaulting to user installation because normal site-packages is not writeable\n",
      "Requirement already satisfied: torch in /Users/gyzavyalov/Library/Python/3.9/lib/python/site-packages (2.0.1)\n",
      "Requirement already satisfied: filelock in /Users/gyzavyalov/Library/Python/3.9/lib/python/site-packages (from torch) (3.13.1)\n",
      "Requirement already satisfied: typing-extensions in /Users/gyzavyalov/Library/Python/3.9/lib/python/site-packages (from torch) (4.11.0)\n",
      "Requirement already satisfied: sympy in /Users/gyzavyalov/Library/Python/3.9/lib/python/site-packages (from torch) (1.11.1)\n",
      "Requirement already satisfied: networkx in /Users/gyzavyalov/Library/Python/3.9/lib/python/site-packages (from torch) (3.0)\n",
      "Requirement already satisfied: jinja2 in /Users/gyzavyalov/Library/Python/3.9/lib/python/site-packages (from torch) (3.1.2)\n",
      "Requirement already satisfied: MarkupSafe>=2.0 in /Users/gyzavyalov/Library/Python/3.9/lib/python/site-packages (from jinja2->torch) (2.1.2)\n",
      "Requirement already satisfied: mpmath>=0.19 in /Users/gyzavyalov/Library/Python/3.9/lib/python/site-packages (from sympy->torch) (1.3.0)\n"
     ]
    }
   ],
   "source": [
    "!python3 -m pip install catboost scikit-learn ipywidgets ipython transformers\n",
    "!python3 -m pip install transformers\n",
    "!python3 -m pip install torch "
   ]
  },
  {
   "cell_type": "code",
   "execution_count": 15,
   "metadata": {},
   "outputs": [],
   "source": [
    "import sys\n",
    "from pathlib import Path\n",
    "\n",
    "import pandas as pd\n",
    "from sklearn.model_selection import train_test_split\n",
    "from sklearn.metrics import classification_report\n",
    "from catboost import Pool, CatBoostClassifier, cv\n",
    "\n",
    "sys.path.append(str(Path().resolve().parent / 'data'))\n",
    "import honeypots\n",
    "import database\n",
    "import kinopoisk\n"
   ]
  },
  {
   "cell_type": "code",
   "execution_count": 2,
   "metadata": {},
   "outputs": [],
   "source": [
    "db = database.make_database()\n",
    "\n",
    "def load_table(table_name):\n",
    "  df = pd.DataFrame(columns=[x[0] for x in db.list_query(f'SHOW COLUMNS FROM {table_name};')])\n",
    "  for i, item in enumerate(db.list_query(f'SELECT * FROM {table_name};')):\n",
    "    df.loc[i] = [x for x in item]\n",
    "  return df"
   ]
  },
  {
   "cell_type": "code",
   "execution_count": 3,
   "metadata": {},
   "outputs": [
    {
     "name": "stdout",
     "output_type": "stream",
     "text": [
      "                                 review                                aspect  \\\n",
      "0  81ca6e9c-9247-4c5a-9461-56222f1d2943  c9c33581-7574-4b5c-9fea-184977d30231   \n",
      "1  1d2c9802-a593-49e5-8981-64849a70e9a6  bb6625fd-7d5e-43a8-8709-ff55d3dce54e   \n",
      "2  1f36dc51-7ce2-489c-9da6-521be692f1f6  7544eeab-22fa-4c9e-bb73-106b67e75be2   \n",
      "3  65c6e3aa-35c2-479a-9406-69624d6c796d  b6c1ca7e-40a8-4322-b83e-d0da892dd1df   \n",
      "4  e5c56a65-2cdc-4ec6-ab05-6b99f4ba8afc  b6c1ca7e-40a8-4322-b83e-d0da892dd1df   \n",
      "\n",
      "   answer            ip session  \n",
      "0       0  3.78.232.236    None  \n",
      "1       0  3.78.232.236    None  \n",
      "2       2  46.39.53.204    None  \n",
      "3       2  46.39.53.204    None  \n",
      "4       2  46.39.53.204    None  \n",
      "8294\n"
     ]
    }
   ],
   "source": [
    "df_answers = load_table('answers')\n",
    "df_aspects = load_table('aspects')\n",
    "df_reviews = load_table('reviews')\n",
    "\n",
    "print(df_answers.head())\n",
    "print(df_answers.shape[0])"
   ]
  },
  {
   "cell_type": "code",
   "execution_count": 8,
   "metadata": {},
   "outputs": [],
   "source": [
    "aspects_map = {\n",
    "  df_aspects['id'][x]: df_aspects['aspect'][x]\n",
    "  for x in range(df_aspects.shape[0])\n",
    "}\n",
    "reviews_map = {\n",
    "  df_reviews['id'][x]: df_reviews['review_body'][x]\n",
    "  for x in range(df_reviews.shape[0])\n",
    "}\n",
    "aspect_state = {1: 'хорошо', 0: 'плохо', 2: 'отсутствует'}"
   ]
  },
  {
   "cell_type": "code",
   "execution_count": 9,
   "metadata": {},
   "outputs": [
    {
     "name": "stdout",
     "output_type": "stream",
     "text": [
      "df3e3dd306f652614e0fc711d2537dccf2e4851a644ee8f916acf4037377e113 0.0 5\n",
      "975b64d3b54833adc31c16eb8bddcf8bc86e040819216e569ad346790f73dba3 0.3333333333333333 9\n",
      "3101bc266e078cd1a600efb3223fc36dbe24c7a933c8b259da11bafebd66cebc 0.2777777777777778 18\n",
      "aaad60c5bed3af59151f4c9f327d1f000d81ada39adcc4e4aa1ae74c1f3fa8c0 0.4166666666666667 36\n",
      "05ae6af128ada248193f6f144da134b0630d064ab2aae5aadecd93adcc036eeb 0.0 9\n",
      "2fb96f42c7d8788d63aea6af5ed08e7b324938a25ddba557b3771631c74b4f23 0.1111111111111111 9\n",
      "d0889bcb8898dd823051db6a80ab0bcd6f3a94dd5e6e2e879378323589f2a0ae 0.2222222222222222 9\n",
      "5a97d30de73898a9a6d82de14f9b0db1fef4d115bc7c9cea7f5e3211815ce5eb 0.3333333333333333 6\n",
      "93cc6560a6dbf336f1318c1fc9bbacc80c0a51245c5e4d94211f37ed29f437e4 0.25 36\n",
      "aa63ec02223a4d02b0f3cd2509c4d09d5f699d035510827a8672fb1ab3297a52 0.37142857142857144 35\n",
      "04d2b139aa71156cd245948e99607840a22b0e514a4bc27fd6f3b8a23865baa3 0.3888888888888889 18\n",
      "44e2c69788be21627a36e0b7df8b3962b5e802a685983f1737d522b720b3f06a 0.3611111111111111 36\n",
      "65ad9d76c4b596bd44f18e2d8c2cfd0c2ca2ee99f500358e11e04c400f8fa4fc 0.2692307692307692 26\n",
      "6bca11aa5f61c0db8fdbc955a335f3a9841a65e66e8fa2c28473c2a07980f3d7 0.5925925925925926 27\n",
      "a2762842b6d700eca92c6fada11983a6629b63f52b7bc678f2a04fb3a7b76e97 0.35185185185185186 54\n",
      "67cee8426d30adbc1b4cc84adb29132398e55bab8b37139d0d9479b8c5e43b16 0.25 8\n",
      "667078e92a3d376297dce0fd4be8051c0ab5392dc9442716ee361e77bbd6bd50 0.4444444444444444 63\n",
      "f2ef5f37d89bcff64dface4f6c3fe00b81046513f1e1e77037ffe0bb55fc5f15 0.5353535353535354 99\n",
      "f99ba242a50d8d07bcfc28ca5ea78af1a9a0afd3d167a3b3c6508418429858b3 0.3333333333333333 27\n",
      "alice 0.16098484848484848 528\n",
      "DB length: (8294, 4)\n",
      "Resulting: 6495\n"
     ]
    }
   ],
   "source": [
    "answers = pd.DataFrame(columns=['review', 'aspect', 'answer', 'session'])\n",
    "user_answers = honeypots.check_users()\n",
    "user_threshold = 0.17\n",
    "bad_users = []\n",
    "\n",
    "for k, v in user_answers.items():\n",
    "  (incorrect, all) = v\n",
    "  print(k, incorrect / all, all)\n",
    "  if incorrect / all < user_threshold: continue\n",
    "  bad_users.append(k)\n",
    "\n",
    "for ind, row in df_answers.iterrows():\n",
    "  review = reviews_map.get(row.review)\n",
    "  aspect = aspects_map.get(row.aspect)\n",
    "  answer = aspect_state[row.answer]\n",
    "  answers.loc[ind] = [review, aspect, answer, row.session]\n",
    "\n",
    "\n",
    "print('DB length:', answers.shape)\n",
    "answers = answers.loc[~answers['session'].isin(bad_users)]\n",
    "print('Resulting:', answers.shape[0])\n",
    "\n",
    "text_features = ['review']\n",
    "cat_features = ['aspect']"
   ]
  },
  {
   "cell_type": "code",
   "execution_count": 10,
   "metadata": {},
   "outputs": [],
   "source": [
    "def process(data, aspect):\n",
    "  df = data.copy()\n",
    "  df = df[df['aspect'] == aspect]\n",
    "  df = df.drop(['aspect', 'session'], axis=1)\n",
    "  return df.drop(['answer'], axis=1), df['answer']\n"
   ]
  },
  {
   "cell_type": "code",
   "execution_count": 11,
   "metadata": {},
   "outputs": [],
   "source": [
    "catboost_default_params = {\n",
    "  'iterations': 1000,\n",
    "  'learning_rate': 0.05,\n",
    "  'custom_loss': ['Accuracy', 'AUC', 'TotalF1'],\n",
    "  'loss_function': 'MultiClass',\n",
    "}"
   ]
  },
  {
   "cell_type": "code",
   "execution_count": 12,
   "metadata": {},
   "outputs": [
    {
     "name": "stdout",
     "output_type": "stream",
     "text": [
      "---------- Режиссерская работа 726 ----------\n"
     ]
    },
    {
     "data": {
      "application/vnd.jupyter.widget-view+json": {
       "model_id": "886412b80e314864b952335ca1b6e19f",
       "version_major": 2,
       "version_minor": 0
      },
      "text/plain": [
       "MetricVisualizer(layout=Layout(align_self='stretch', height='500px'))"
      ]
     },
     "metadata": {},
     "output_type": "display_data"
    },
    {
     "name": "stdout",
     "output_type": "stream",
     "text": [
      "0:\tlearn: 1.0852041\ttest: 1.0865695\tbest: 1.0865695 (0)\ttotal: 231ms\tremaining: 3m 50s\n",
      "100:\tlearn: 0.7412422\ttest: 0.8252035\tbest: 0.8252035 (100)\ttotal: 15.8s\tremaining: 2m 20s\n",
      "200:\tlearn: 0.5714427\ttest: 0.7965928\tbest: 0.7962195 (197)\ttotal: 30.5s\tremaining: 2m 1s\n",
      "300:\tlearn: 0.4362410\ttest: 0.7851338\tbest: 0.7845528 (294)\ttotal: 45s\tremaining: 1m 44s\n",
      "400:\tlearn: 0.3531009\ttest: 0.7940310\tbest: 0.7843677 (304)\ttotal: 1m\tremaining: 1m 30s\n",
      "Stopped by overfitting detector  (100 iterations wait)\n",
      "\n",
      "bestTest = 0.7843676827\n",
      "bestIteration = 304\n",
      "\n",
      "Shrink model to first 305 iterations.\n",
      "        Y_true       Y_pred\n",
      "0  отсутствует       хорошо\n",
      "1  отсутствует  отсутствует\n",
      "2        плохо       хорошо\n",
      "3       хорошо       хорошо\n",
      "4       хорошо       хорошо\n",
      "set()\n",
      "              precision    recall  f1-score   support\n",
      "\n",
      " отсутствует       0.96      0.72      0.82       202\n",
      "      хорошо       0.95      0.88      0.92       117\n",
      "       плохо       0.86      0.99      0.92       407\n",
      "\n",
      "    accuracy                           0.90       726\n",
      "   macro avg       0.93      0.86      0.89       726\n",
      "weighted avg       0.90      0.90      0.89       726\n",
      "\n",
      "---------- Саундтрек/музыка 678 ----------\n"
     ]
    },
    {
     "data": {
      "application/vnd.jupyter.widget-view+json": {
       "model_id": "0b23392e469343deba95298d06aee3c8",
       "version_major": 2,
       "version_minor": 0
      },
      "text/plain": [
       "MetricVisualizer(layout=Layout(align_self='stretch', height='500px'))"
      ]
     },
     "metadata": {},
     "output_type": "display_data"
    },
    {
     "name": "stdout",
     "output_type": "stream",
     "text": [
      "0:\tlearn: 1.0731284\ttest: 1.0746968\tbest: 1.0746968 (0)\ttotal: 130ms\tremaining: 2m 9s\n",
      "100:\tlearn: 0.5713220\ttest: 0.7163342\tbest: 0.7158083 (99)\ttotal: 13.8s\tremaining: 2m 3s\n",
      "200:\tlearn: 0.4051091\ttest: 0.6789604\tbest: 0.6789604 (200)\ttotal: 26.6s\tremaining: 1m 45s\n",
      "300:\tlearn: 0.2932491\ttest: 0.6744273\tbest: 0.6714849 (274)\ttotal: 41.3s\tremaining: 1m 35s\n",
      "Stopped by overfitting detector  (100 iterations wait)\n",
      "\n",
      "bestTest = 0.6714849002\n",
      "bestIteration = 274\n",
      "\n",
      "Shrink model to first 275 iterations.\n",
      "        Y_true       Y_pred\n",
      "0  отсутствует  отсутствует\n",
      "1  отсутствует  отсутствует\n",
      "2       хорошо       хорошо\n",
      "3  отсутствует  отсутствует\n",
      "4       хорошо       хорошо\n",
      "set()\n",
      "              precision    recall  f1-score   support\n",
      "\n",
      " отсутствует       0.88      1.00      0.93       423\n",
      "      хорошо       1.00      0.24      0.38        34\n",
      "       плохо       0.99      0.85      0.91       221\n",
      "\n",
      "    accuracy                           0.91       678\n",
      "   macro avg       0.95      0.69      0.74       678\n",
      "weighted avg       0.92      0.91      0.90       678\n",
      "\n",
      "---------- Актерская игра 766 ----------\n"
     ]
    },
    {
     "data": {
      "application/vnd.jupyter.widget-view+json": {
       "model_id": "9096aac8fa894efe9749a75d8912fddf",
       "version_major": 2,
       "version_minor": 0
      },
      "text/plain": [
       "MetricVisualizer(layout=Layout(align_self='stretch', height='500px'))"
      ]
     },
     "metadata": {},
     "output_type": "display_data"
    },
    {
     "name": "stdout",
     "output_type": "stream",
     "text": [
      "0:\tlearn: 1.0747781\ttest: 1.0683035\tbest: 1.0683035 (0)\ttotal: 130ms\tremaining: 2m 9s\n",
      "100:\tlearn: 0.6573019\ttest: 0.6646437\tbest: 0.6646437 (100)\ttotal: 14.8s\tremaining: 2m 11s\n",
      "200:\tlearn: 0.5013615\ttest: 0.6172713\tbest: 0.6172713 (200)\ttotal: 29.1s\tremaining: 1m 55s\n",
      "300:\tlearn: 0.3808008\ttest: 0.5944421\tbest: 0.5944421 (300)\ttotal: 43.9s\tremaining: 1m 41s\n",
      "400:\tlearn: 0.3078505\ttest: 0.5841215\tbest: 0.5831614 (392)\ttotal: 58.5s\tremaining: 1m 27s\n",
      "500:\tlearn: 0.2540059\ttest: 0.5853640\tbest: 0.5828662 (456)\ttotal: 1m 14s\tremaining: 1m 13s\n",
      "Stopped by overfitting detector  (100 iterations wait)\n",
      "\n",
      "bestTest = 0.5828662474\n",
      "bestIteration = 456\n",
      "\n",
      "Shrink model to first 457 iterations.\n",
      "        Y_true       Y_pred\n",
      "0  отсутствует  отсутствует\n",
      "1       хорошо       хорошо\n",
      "2       хорошо       хорошо\n",
      "3       хорошо       хорошо\n",
      "4       хорошо       хорошо\n",
      "set()\n",
      "              precision    recall  f1-score   support\n",
      "\n",
      " отсутствует       0.97      0.91      0.94       190\n",
      "      хорошо       0.97      0.77      0.86       111\n",
      "       плохо       0.92      0.98      0.95       465\n",
      "\n",
      "    accuracy                           0.94       766\n",
      "   macro avg       0.95      0.89      0.92       766\n",
      "weighted avg       0.94      0.94      0.93       766\n",
      "\n",
      "---------- Визуальные эффекты 757 ----------\n"
     ]
    },
    {
     "data": {
      "application/vnd.jupyter.widget-view+json": {
       "model_id": "ce71820f5ac846b0ab4a02c6affd99e4",
       "version_major": 2,
       "version_minor": 0
      },
      "text/plain": [
       "MetricVisualizer(layout=Layout(align_self='stretch', height='500px'))"
      ]
     },
     "metadata": {},
     "output_type": "display_data"
    },
    {
     "name": "stdout",
     "output_type": "stream",
     "text": [
      "0:\tlearn: 1.0588248\ttest: 1.0606591\tbest: 1.0606591 (0)\ttotal: 164ms\tremaining: 2m 43s\n",
      "100:\tlearn: 0.5489015\ttest: 0.6953202\tbest: 0.6952552 (99)\ttotal: 14.6s\tremaining: 2m 9s\n",
      "200:\tlearn: 0.4011669\ttest: 0.6698621\tbest: 0.6689399 (181)\ttotal: 28.8s\tremaining: 1m 54s\n",
      "300:\tlearn: 0.3003270\ttest: 0.6592656\tbest: 0.6573972 (291)\ttotal: 43.1s\tremaining: 1m 40s\n",
      "400:\tlearn: 0.2362477\ttest: 0.6605609\tbest: 0.6555936 (330)\ttotal: 57.3s\tremaining: 1m 25s\n",
      "Stopped by overfitting detector  (100 iterations wait)\n",
      "\n",
      "bestTest = 0.6555935774\n",
      "bestIteration = 330\n",
      "\n",
      "Shrink model to first 331 iterations.\n",
      "        Y_true       Y_pred\n",
      "0  отсутствует  отсутствует\n",
      "1       хорошо       хорошо\n",
      "2  отсутствует  отсутствует\n",
      "3  отсутствует  отсутствует\n",
      "4  отсутствует  отсутствует\n",
      "set()\n",
      "              precision    recall  f1-score   support\n",
      "\n",
      " отсутствует       0.91      0.99      0.95       544\n",
      "      хорошо       0.92      0.62      0.74        53\n",
      "       плохо       0.99      0.79      0.88       160\n",
      "\n",
      "    accuracy                           0.92       757\n",
      "   macro avg       0.94      0.80      0.86       757\n",
      "weighted avg       0.93      0.92      0.92       757\n",
      "\n",
      "---------- Эмоциональное воздействие 738 ----------\n"
     ]
    },
    {
     "data": {
      "application/vnd.jupyter.widget-view+json": {
       "model_id": "6dde9f8a7df941b5ba41ccbb13b50e09",
       "version_major": 2,
       "version_minor": 0
      },
      "text/plain": [
       "MetricVisualizer(layout=Layout(align_self='stretch', height='500px'))"
      ]
     },
     "metadata": {},
     "output_type": "display_data"
    },
    {
     "name": "stdout",
     "output_type": "stream",
     "text": [
      "0:\tlearn: 1.0563140\ttest: 1.0435647\tbest: 1.0435647 (0)\ttotal: 194ms\tremaining: 3m 14s\n",
      "100:\tlearn: 0.5012244\ttest: 0.4645550\tbest: 0.4645550 (100)\ttotal: 13.8s\tremaining: 2m 3s\n",
      "200:\tlearn: 0.3677990\ttest: 0.4323617\tbest: 0.4320584 (197)\ttotal: 27.8s\tremaining: 1m 50s\n",
      "300:\tlearn: 0.2762804\ttest: 0.4162781\tbest: 0.4143420 (284)\ttotal: 42.1s\tremaining: 1m 37s\n",
      "400:\tlearn: 0.2191435\ttest: 0.4109161\tbest: 0.4109135 (399)\ttotal: 56.1s\tremaining: 1m 23s\n",
      "500:\tlearn: 0.1764547\ttest: 0.4096541\tbest: 0.4095503 (499)\ttotal: 1m 9s\tremaining: 1m 9s\n",
      "600:\tlearn: 0.1454613\ttest: 0.4099839\tbest: 0.4085952 (536)\ttotal: 1m 23s\tremaining: 55.3s\n",
      "Stopped by overfitting detector  (100 iterations wait)\n",
      "\n",
      "bestTest = 0.4085952134\n",
      "bestIteration = 536\n",
      "\n",
      "Shrink model to first 537 iterations.\n",
      "        Y_true  Y_pred\n",
      "0        плохо   плохо\n",
      "1  отсутствует  хорошо\n",
      "2       хорошо  хорошо\n",
      "3       хорошо  хорошо\n",
      "4  отсутствует  хорошо\n",
      "set()\n",
      "              precision    recall  f1-score   support\n",
      "\n",
      " отсутствует       1.00      0.33      0.49        43\n",
      "      хорошо       0.97      0.91      0.94       160\n",
      "       плохо       0.93      0.99      0.96       535\n",
      "\n",
      "    accuracy                           0.94       738\n",
      "   macro avg       0.97      0.74      0.80       738\n",
      "weighted avg       0.94      0.94      0.93       738\n",
      "\n",
      "---------- Раскрытие темы 634 ----------\n"
     ]
    },
    {
     "data": {
      "application/vnd.jupyter.widget-view+json": {
       "model_id": "5f236d194d734c9aad068768e6df19be",
       "version_major": 2,
       "version_minor": 0
      },
      "text/plain": [
       "MetricVisualizer(layout=Layout(align_self='stretch', height='500px'))"
      ]
     },
     "metadata": {},
     "output_type": "display_data"
    },
    {
     "name": "stdout",
     "output_type": "stream",
     "text": [
      "0:\tlearn: 1.0716396\ttest: 1.0660113\tbest: 1.0660113 (0)\ttotal: 177ms\tremaining: 2m 56s\n",
      "100:\tlearn: 0.6428077\ttest: 0.6682896\tbest: 0.6682896 (100)\ttotal: 14.9s\tremaining: 2m 12s\n",
      "200:\tlearn: 0.4835013\ttest: 0.6222052\tbest: 0.6222052 (200)\ttotal: 28.2s\tremaining: 1m 52s\n",
      "300:\tlearn: 0.3686747\ttest: 0.6071139\tbest: 0.6071139 (300)\ttotal: 41.9s\tremaining: 1m 37s\n",
      "400:\tlearn: 0.2940659\ttest: 0.5904994\tbest: 0.5903602 (399)\ttotal: 55.6s\tremaining: 1m 23s\n",
      "500:\tlearn: 0.2398164\ttest: 0.5789709\tbest: 0.5784691 (498)\ttotal: 1m 9s\tremaining: 1m 8s\n",
      "600:\tlearn: 0.2012897\ttest: 0.5745296\tbest: 0.5736441 (555)\ttotal: 1m 22s\tremaining: 55s\n",
      "700:\tlearn: 0.1707335\ttest: 0.5720579\tbest: 0.5710045 (666)\ttotal: 1m 38s\tremaining: 41.8s\n",
      "Stopped by overfitting detector  (100 iterations wait)\n",
      "\n",
      "bestTest = 0.5710045387\n",
      "bestIteration = 666\n",
      "\n",
      "Shrink model to first 667 iterations.\n",
      "        Y_true  Y_pred\n",
      "0       хорошо  хорошо\n",
      "1       хорошо  хорошо\n",
      "2  отсутствует  хорошо\n",
      "3       хорошо  хорошо\n",
      "4       хорошо  хорошо\n",
      "set()\n",
      "              precision    recall  f1-score   support\n",
      "\n",
      " отсутствует       0.98      0.65      0.78        91\n",
      "      хорошо       0.98      0.90      0.94       123\n",
      "       плохо       0.91      1.00      0.95       420\n",
      "\n",
      "    accuracy                           0.93       634\n",
      "   macro avg       0.96      0.85      0.89       634\n",
      "weighted avg       0.93      0.93      0.92       634\n",
      "\n",
      "---------- Оригинальность сюжета 754 ----------\n"
     ]
    },
    {
     "data": {
      "application/vnd.jupyter.widget-view+json": {
       "model_id": "bedfdcfa9729434498400393985dd229",
       "version_major": 2,
       "version_minor": 0
      },
      "text/plain": [
       "MetricVisualizer(layout=Layout(align_self='stretch', height='500px'))"
      ]
     },
     "metadata": {},
     "output_type": "display_data"
    },
    {
     "name": "stdout",
     "output_type": "stream",
     "text": [
      "0:\tlearn: 1.0837939\ttest: 1.0856477\tbest: 1.0856477 (0)\ttotal: 158ms\tremaining: 2m 38s\n",
      "100:\tlearn: 0.7535434\ttest: 0.8904306\tbest: 0.8895285 (92)\ttotal: 14.1s\tremaining: 2m 5s\n",
      "200:\tlearn: 0.5675592\ttest: 0.8669780\tbest: 0.8666161 (198)\ttotal: 28.1s\tremaining: 1m 51s\n",
      "300:\tlearn: 0.4417281\ttest: 0.8606130\tbest: 0.8606130 (300)\ttotal: 41.6s\tremaining: 1m 36s\n",
      "400:\tlearn: 0.3542454\ttest: 0.8636773\tbest: 0.8561680 (334)\ttotal: 55.3s\tremaining: 1m 22s\n",
      "Stopped by overfitting detector  (100 iterations wait)\n",
      "\n",
      "bestTest = 0.8561679759\n",
      "bestIteration = 334\n",
      "\n",
      "Shrink model to first 335 iterations.\n",
      "   Y_true       Y_pred\n",
      "0  хорошо       хорошо\n",
      "1  хорошо  отсутствует\n",
      "2   плохо  отсутствует\n",
      "3   плохо        плохо\n",
      "4  хорошо       хорошо\n",
      "set()\n",
      "              precision    recall  f1-score   support\n",
      "\n",
      " отсутствует       0.83      0.98      0.90       410\n",
      "      хорошо       0.89      0.62      0.73        82\n",
      "       плохо       0.98      0.79      0.87       262\n",
      "\n",
      "    accuracy                           0.87       754\n",
      "   macro avg       0.90      0.80      0.83       754\n",
      "weighted avg       0.89      0.87      0.87       754\n",
      "\n",
      "---------- Юмор 728 ----------\n"
     ]
    },
    {
     "data": {
      "application/vnd.jupyter.widget-view+json": {
       "model_id": "6d3532eed33b4ac3bea0fb3b99a1b03e",
       "version_major": 2,
       "version_minor": 0
      },
      "text/plain": [
       "MetricVisualizer(layout=Layout(align_self='stretch', height='500px'))"
      ]
     },
     "metadata": {},
     "output_type": "display_data"
    },
    {
     "name": "stdout",
     "output_type": "stream",
     "text": [
      "0:\tlearn: 1.0723462\ttest: 1.0755260\tbest: 1.0755260 (0)\ttotal: 147ms\tremaining: 2m 27s\n",
      "100:\tlearn: 0.6405079\ttest: 0.8035583\tbest: 0.8035583 (100)\ttotal: 13.4s\tremaining: 1m 59s\n",
      "200:\tlearn: 0.4720670\ttest: 0.7725157\tbest: 0.7715759 (198)\ttotal: 27.5s\tremaining: 1m 49s\n",
      "300:\tlearn: 0.3539388\ttest: 0.7610053\tbest: 0.7608835 (251)\ttotal: 41s\tremaining: 1m 35s\n",
      "Stopped by overfitting detector  (100 iterations wait)\n",
      "\n",
      "bestTest = 0.7608835289\n",
      "bestIteration = 251\n",
      "\n",
      "Shrink model to first 252 iterations.\n",
      "        Y_true       Y_pred\n",
      "0        плохо  отсутствует\n",
      "1  отсутствует  отсутствует\n",
      "2  отсутствует  отсутствует\n",
      "3  отсутствует  отсутствует\n",
      "4  отсутствует  отсутствует\n",
      "set()\n",
      "              precision    recall  f1-score   support\n",
      "\n",
      " отсутствует       0.87      1.00      0.93       448\n",
      "      хорошо       1.00      0.77      0.87        70\n",
      "       плохо       0.99      0.75      0.85       210\n",
      "\n",
      "    accuracy                           0.90       728\n",
      "   macro avg       0.95      0.84      0.88       728\n",
      "weighted avg       0.91      0.90      0.90       728\n",
      "\n",
      "---------- Дизайн постановки/костюмов 714 ----------\n"
     ]
    },
    {
     "data": {
      "application/vnd.jupyter.widget-view+json": {
       "model_id": "5968cd7c5afa45c1a0ee51ef2b98dd8f",
       "version_major": 2,
       "version_minor": 0
      },
      "text/plain": [
       "MetricVisualizer(layout=Layout(align_self='stretch', height='500px'))"
      ]
     },
     "metadata": {},
     "output_type": "display_data"
    },
    {
     "name": "stdout",
     "output_type": "stream",
     "text": [
      "0:\tlearn: 1.0454024\ttest: 1.0435741\tbest: 1.0435741 (0)\ttotal: 156ms\tremaining: 2m 36s\n",
      "100:\tlearn: 0.4086141\ttest: 0.4519894\tbest: 0.4519894 (100)\ttotal: 13.2s\tremaining: 1m 57s\n",
      "200:\tlearn: 0.2979268\ttest: 0.4387562\tbest: 0.4387562 (200)\ttotal: 26.9s\tremaining: 1m 46s\n",
      "300:\tlearn: 0.2205389\ttest: 0.4343241\tbest: 0.4317872 (261)\ttotal: 40.8s\tremaining: 1m 34s\n",
      "Stopped by overfitting detector  (100 iterations wait)\n",
      "\n",
      "bestTest = 0.4317871503\n",
      "bestIteration = 261\n",
      "\n",
      "Shrink model to first 262 iterations.\n",
      "        Y_true       Y_pred\n",
      "0  отсутствует  отсутствует\n",
      "1  отсутствует  отсутствует\n",
      "2  отсутствует  отсутствует\n",
      "3  отсутствует  отсутствует\n",
      "4  отсутствует  отсутствует\n",
      "set()\n",
      "              precision    recall  f1-score   support\n",
      "\n",
      " отсутствует       0.90      1.00      0.95       592\n",
      "      хорошо       1.00      0.35      0.51        26\n",
      "       плохо       1.00      0.48      0.65        96\n",
      "\n",
      "    accuracy                           0.91       714\n",
      "   macro avg       0.97      0.61      0.70       714\n",
      "weighted avg       0.92      0.91      0.89       714\n",
      "\n"
     ]
    }
   ],
   "source": [
    "best_model = {}\n",
    "\n",
    "for aspect in df_aspects['aspect']:\n",
    "  X, Y = process(answers, aspect)\n",
    "  print('-' * 10, aspect, X.shape[0], '-' * 10)\n",
    "  X_train, X_test, Y_train, Y_test = train_test_split(X, Y, test_size=0.22, random_state=42, shuffle=True)\n",
    "  pool_params = { 'text_features': list(X), 'feature_names': list(X) }\n",
    "  learn_pool = Pool(X_train, Y_train, **pool_params)\n",
    "  test_pool = Pool(X_test, Y_test, **pool_params)\n",
    "  all_pool = Pool(X, Y, **pool_params)\n",
    "\n",
    "  model = CatBoostClassifier(**catboost_default_params)\n",
    "  model.fit(learn_pool, eval_set=test_pool, early_stopping_rounds=100, plot=True, verbose=100)\n",
    "  best_model[aspect] = model\n",
    "\n",
    "  comp = pd.DataFrame({'Y_true': Y.iloc[:].values, 'Y_pred': [y for x in model.predict(X) for y in x]})\n",
    "  print(comp.head())\n",
    "  print(classification_report(comp['Y_true'], comp['Y_pred'], target_names=list(set(Y))))\n",
    "\n"
   ]
  },
  {
   "cell_type": "code",
   "execution_count": 13,
   "metadata": {},
   "outputs": [
    {
     "name": "stdout",
     "output_type": "stream",
     "text": [
      "---------- Режиссерская работа 726 ----------\n"
     ]
    },
    {
     "data": {
      "application/vnd.jupyter.widget-view+json": {
       "model_id": "b3b3c03840384030a03a853df29f8da6",
       "version_major": 2,
       "version_minor": 0
      },
      "text/plain": [
       "MetricVisualizer(layout=Layout(align_self='stretch', height='500px'))"
      ]
     },
     "metadata": {},
     "output_type": "display_data"
    },
    {
     "name": "stdout",
     "output_type": "stream",
     "text": [
      "0:\tlearn: 1.0788298\ttotal: 120ms\tremaining: 43.8s\n",
      "100:\tlearn: 0.7448086\ttotal: 15.6s\tremaining: 40.8s\n",
      "200:\tlearn: 0.5863572\ttotal: 29.5s\tremaining: 24.2s\n",
      "300:\tlearn: 0.4672512\ttotal: 44.5s\tremaining: 9.61s\n",
      "365:\tlearn: 0.4110612\ttotal: 55.1s\tremaining: 0us\n",
      "        Y_true       Y_pred\n",
      "0  отсутствует  отсутствует\n",
      "1  отсутствует  отсутствует\n",
      "2        плохо        плохо\n",
      "3       хорошо       хорошо\n",
      "4       хорошо       хорошо\n",
      "              precision    recall  f1-score   support\n",
      "\n",
      " отсутствует       0.99      0.98      0.99       202\n",
      "      хорошо       1.00      1.00      1.00       117\n",
      "       плохо       0.99      1.00      0.99       407\n",
      "\n",
      "    accuracy                           0.99       726\n",
      "   macro avg       1.00      0.99      0.99       726\n",
      "weighted avg       0.99      0.99      0.99       726\n",
      "\n",
      "---------- Саундтрек/музыка 678 ----------\n"
     ]
    },
    {
     "data": {
      "application/vnd.jupyter.widget-view+json": {
       "model_id": "a9854cb1c59041d3996764f04ceff23d",
       "version_major": 2,
       "version_minor": 0
      },
      "text/plain": [
       "MetricVisualizer(layout=Layout(align_self='stretch', height='500px'))"
      ]
     },
     "metadata": {},
     "output_type": "display_data"
    },
    {
     "name": "stdout",
     "output_type": "stream",
     "text": [
      "0:\tlearn: 1.0665834\ttotal: 157ms\tremaining: 51.8s\n",
      "100:\tlearn: 0.5860306\ttotal: 13.9s\tremaining: 31.5s\n",
      "200:\tlearn: 0.4324729\ttotal: 27.4s\tremaining: 17.6s\n",
      "300:\tlearn: 0.3294525\ttotal: 42.9s\tremaining: 4.13s\n",
      "329:\tlearn: 0.3071889\ttotal: 46.8s\tremaining: 0us\n",
      "        Y_true       Y_pred\n",
      "0  отсутствует  отсутствует\n",
      "1  отсутствует  отсутствует\n",
      "2       хорошо       хорошо\n",
      "3  отсутствует  отсутствует\n",
      "4       хорошо       хорошо\n",
      "              precision    recall  f1-score   support\n",
      "\n",
      " отсутствует       0.93      1.00      0.96       423\n",
      "      хорошо       1.00      0.47      0.64        34\n",
      "       плохо       1.00      0.92      0.96       221\n",
      "\n",
      "    accuracy                           0.95       678\n",
      "   macro avg       0.97      0.80      0.85       678\n",
      "weighted avg       0.95      0.95      0.94       678\n",
      "\n",
      "---------- Актерская игра 766 ----------\n"
     ]
    },
    {
     "data": {
      "application/vnd.jupyter.widget-view+json": {
       "model_id": "bb6aae4a0ad1491b92f7ae81bc0b2227",
       "version_major": 2,
       "version_minor": 0
      },
      "text/plain": [
       "MetricVisualizer(layout=Layout(align_self='stretch', height='500px'))"
      ]
     },
     "metadata": {},
     "output_type": "display_data"
    },
    {
     "name": "stdout",
     "output_type": "stream",
     "text": [
      "0:\tlearn: 1.0703591\ttotal: 144ms\tremaining: 1m 18s\n",
      "100:\tlearn: 0.6422072\ttotal: 13.7s\tremaining: 1m\n",
      "200:\tlearn: 0.5060295\ttotal: 29.1s\tremaining: 50.3s\n",
      "300:\tlearn: 0.4052536\ttotal: 45.4s\tremaining: 37.3s\n",
      "400:\tlearn: 0.3365444\ttotal: 1m\tremaining: 22.2s\n",
      "500:\tlearn: 0.2845116\ttotal: 1m 16s\tremaining: 7.14s\n",
      "547:\tlearn: 0.2635235\ttotal: 1m 22s\tremaining: 0us\n",
      "        Y_true       Y_pred\n",
      "0  отсутствует  отсутствует\n",
      "1       хорошо       хорошо\n",
      "2       хорошо       хорошо\n",
      "3       хорошо       хорошо\n",
      "4       хорошо       хорошо\n",
      "              precision    recall  f1-score   support\n",
      "\n",
      " отсутствует       0.98      1.00      0.99       190\n",
      "      хорошо       1.00      0.80      0.89       111\n",
      "       плохо       0.95      0.99      0.97       465\n",
      "\n",
      "    accuracy                           0.97       766\n",
      "   macro avg       0.98      0.93      0.95       766\n",
      "weighted avg       0.97      0.97      0.97       766\n",
      "\n",
      "---------- Визуальные эффекты 757 ----------\n"
     ]
    },
    {
     "data": {
      "application/vnd.jupyter.widget-view+json": {
       "model_id": "99c4914c36724ac19c56ba52db57850b",
       "version_major": 2,
       "version_minor": 0
      },
      "text/plain": [
       "MetricVisualizer(layout=Layout(align_self='stretch', height='500px'))"
      ]
     },
     "metadata": {},
     "output_type": "display_data"
    },
    {
     "name": "stdout",
     "output_type": "stream",
     "text": [
      "0:\tlearn: 1.0599282\ttotal: 142ms\tremaining: 56s\n",
      "100:\tlearn: 0.5545348\ttotal: 14.6s\tremaining: 42.7s\n",
      "200:\tlearn: 0.4266200\ttotal: 28.5s\tremaining: 27.8s\n",
      "300:\tlearn: 0.3278555\ttotal: 43s\tremaining: 13.7s\n",
      "396:\tlearn: 0.2649755\ttotal: 57.2s\tremaining: 0us\n",
      "        Y_true       Y_pred\n",
      "0  отсутствует  отсутствует\n",
      "1       хорошо       хорошо\n",
      "2  отсутствует  отсутствует\n",
      "3  отсутствует  отсутствует\n",
      "4  отсутствует  отсутствует\n",
      "              precision    recall  f1-score   support\n",
      "\n",
      " отсутствует       0.97      0.99      0.98       544\n",
      "      хорошо       0.93      0.75      0.83        53\n",
      "       плохо       1.00      0.99      0.99       160\n",
      "\n",
      "    accuracy                           0.98       757\n",
      "   macro avg       0.97      0.91      0.94       757\n",
      "weighted avg       0.98      0.98      0.98       757\n",
      "\n",
      "---------- Эмоциональное воздействие 738 ----------\n"
     ]
    },
    {
     "data": {
      "application/vnd.jupyter.widget-view+json": {
       "model_id": "c38240cefc0e4510ab63c80572f5c1b9",
       "version_major": 2,
       "version_minor": 0
      },
      "text/plain": [
       "MetricVisualizer(layout=Layout(align_self='stretch', height='500px'))"
      ]
     },
     "metadata": {},
     "output_type": "display_data"
    },
    {
     "name": "stdout",
     "output_type": "stream",
     "text": [
      "0:\tlearn: 1.0550680\ttotal: 137ms\tremaining: 1m 27s\n",
      "100:\tlearn: 0.4812214\ttotal: 15.9s\tremaining: 1m 25s\n",
      "200:\tlearn: 0.3583236\ttotal: 30.9s\tremaining: 1m 8s\n",
      "300:\tlearn: 0.2745247\ttotal: 45.6s\tremaining: 52s\n",
      "400:\tlearn: 0.2197657\ttotal: 1m\tremaining: 36.9s\n",
      "500:\tlearn: 0.1818698\ttotal: 1m 15s\tremaining: 21.6s\n",
      "600:\tlearn: 0.1520930\ttotal: 1m 30s\tremaining: 6.49s\n",
      "643:\tlearn: 0.1408528\ttotal: 1m 37s\tremaining: 0us\n",
      "        Y_true       Y_pred\n",
      "0        плохо        плохо\n",
      "1  отсутствует  отсутствует\n",
      "2       хорошо       хорошо\n",
      "3       хорошо       хорошо\n",
      "4  отсутствует       хорошо\n",
      "              precision    recall  f1-score   support\n",
      "\n",
      " отсутствует       1.00      0.42      0.59        43\n",
      "      хорошо       1.00      0.99      0.99       160\n",
      "       плохо       0.95      1.00      0.98       535\n",
      "\n",
      "    accuracy                           0.96       738\n",
      "   macro avg       0.98      0.80      0.85       738\n",
      "weighted avg       0.97      0.96      0.96       738\n",
      "\n",
      "---------- Раскрытие темы 634 ----------\n"
     ]
    },
    {
     "data": {
      "application/vnd.jupyter.widget-view+json": {
       "model_id": "999df26e72994b3e9b0f8b232aa3e0ff",
       "version_major": 2,
       "version_minor": 0
      },
      "text/plain": [
       "MetricVisualizer(layout=Layout(align_self='stretch', height='500px'))"
      ]
     },
     "metadata": {},
     "output_type": "display_data"
    },
    {
     "name": "stdout",
     "output_type": "stream",
     "text": [
      "0:\tlearn: 1.0689500\ttotal: 216ms\tremaining: 2m 52s\n",
      "100:\tlearn: 0.6315742\ttotal: 15.3s\tremaining: 1m 46s\n",
      "200:\tlearn: 0.4839226\ttotal: 30s\tremaining: 1m 29s\n",
      "300:\tlearn: 0.3732220\ttotal: 46s\tremaining: 1m 16s\n",
      "400:\tlearn: 0.3020154\ttotal: 1m\tremaining: 1m\n",
      "500:\tlearn: 0.2508821\ttotal: 1m 16s\tremaining: 45.4s\n",
      "600:\tlearn: 0.2127884\ttotal: 1m 31s\tremaining: 30.2s\n",
      "700:\tlearn: 0.1827730\ttotal: 1m 45s\tremaining: 14.9s\n",
      "799:\tlearn: 0.1607516\ttotal: 1m 59s\tremaining: 0us\n",
      "        Y_true       Y_pred\n",
      "0       хорошо       хорошо\n",
      "1       хорошо       хорошо\n",
      "2  отсутствует  отсутствует\n",
      "3       хорошо       хорошо\n",
      "4       хорошо       хорошо\n",
      "              precision    recall  f1-score   support\n",
      "\n",
      " отсутствует       1.00      0.91      0.95        91\n",
      "      хорошо       1.00      1.00      1.00       123\n",
      "       плохо       0.98      1.00      0.99       420\n",
      "\n",
      "    accuracy                           0.99       634\n",
      "   macro avg       0.99      0.97      0.98       634\n",
      "weighted avg       0.99      0.99      0.99       634\n",
      "\n",
      "---------- Оригинальность сюжета 754 ----------\n"
     ]
    },
    {
     "data": {
      "application/vnd.jupyter.widget-view+json": {
       "model_id": "9560d3d649da4abdae04483624b9c408",
       "version_major": 2,
       "version_minor": 0
      },
      "text/plain": [
       "MetricVisualizer(layout=Layout(align_self='stretch', height='500px'))"
      ]
     },
     "metadata": {},
     "output_type": "display_data"
    },
    {
     "name": "stdout",
     "output_type": "stream",
     "text": [
      "0:\tlearn: 1.0822214\ttotal: 196ms\tremaining: 1m 18s\n",
      "100:\tlearn: 0.7567319\ttotal: 14s\tremaining: 41.8s\n",
      "200:\tlearn: 0.5974577\ttotal: 27.8s\tremaining: 27.8s\n",
      "300:\tlearn: 0.4751431\ttotal: 41.5s\tremaining: 13.9s\n",
      "400:\tlearn: 0.3929203\ttotal: 55.2s\tremaining: 138ms\n",
      "401:\tlearn: 0.3921654\ttotal: 55.4s\tremaining: 0us\n",
      "   Y_true       Y_pred\n",
      "0  хорошо       хорошо\n",
      "1  хорошо       хорошо\n",
      "2   плохо  отсутствует\n",
      "3   плохо        плохо\n",
      "4  хорошо       хорошо\n",
      "              precision    recall  f1-score   support\n",
      "\n",
      " отсутствует       0.96      1.00      0.98       410\n",
      "      хорошо       1.00      0.90      0.95        82\n",
      "       плохо       1.00      0.97      0.98       262\n",
      "\n",
      "    accuracy                           0.98       754\n",
      "   macro avg       0.99      0.96      0.97       754\n",
      "weighted avg       0.98      0.98      0.98       754\n",
      "\n",
      "---------- Юмор 728 ----------\n"
     ]
    },
    {
     "data": {
      "application/vnd.jupyter.widget-view+json": {
       "model_id": "1a3520e6d075460c86c8d0817f147d18",
       "version_major": 2,
       "version_minor": 0
      },
      "text/plain": [
       "MetricVisualizer(layout=Layout(align_self='stretch', height='500px'))"
      ]
     },
     "metadata": {},
     "output_type": "display_data"
    },
    {
     "name": "stdout",
     "output_type": "stream",
     "text": [
      "0:\tlearn: 1.0662527\ttotal: 124ms\tremaining: 37.3s\n",
      "100:\tlearn: 0.6231348\ttotal: 14.3s\tremaining: 28.4s\n",
      "200:\tlearn: 0.4806052\ttotal: 27.9s\tremaining: 14s\n",
      "300:\tlearn: 0.3739694\ttotal: 41.6s\tremaining: 138ms\n",
      "301:\tlearn: 0.3727917\ttotal: 41.7s\tremaining: 0us\n",
      "        Y_true       Y_pred\n",
      "0        плохо  отсутствует\n",
      "1  отсутствует  отсутствует\n",
      "2  отсутствует  отсутствует\n",
      "3  отсутствует  отсутствует\n",
      "4  отсутствует  отсутствует\n",
      "              precision    recall  f1-score   support\n",
      "\n",
      " отсутствует       0.97      1.00      0.98       448\n",
      "      хорошо       1.00      0.77      0.87        70\n",
      "       плохо       1.00      1.00      1.00       210\n",
      "\n",
      "    accuracy                           0.98       728\n",
      "   macro avg       0.99      0.92      0.95       728\n",
      "weighted avg       0.98      0.98      0.98       728\n",
      "\n",
      "---------- Дизайн постановки/костюмов 714 ----------\n"
     ]
    },
    {
     "data": {
      "application/vnd.jupyter.widget-view+json": {
       "model_id": "842794b514bb431ebf52d8adfa82720c",
       "version_major": 2,
       "version_minor": 0
      },
      "text/plain": [
       "MetricVisualizer(layout=Layout(align_self='stretch', height='500px'))"
      ]
     },
     "metadata": {},
     "output_type": "display_data"
    },
    {
     "name": "stdout",
     "output_type": "stream",
     "text": [
      "0:\tlearn: 1.0446607\ttotal: 147ms\tremaining: 46.2s\n",
      "100:\tlearn: 0.3999469\ttotal: 13.3s\tremaining: 28s\n",
      "200:\tlearn: 0.3004609\ttotal: 27.1s\tremaining: 15.2s\n",
      "300:\tlearn: 0.2275900\ttotal: 41s\tremaining: 1.77s\n",
      "313:\tlearn: 0.2197116\ttotal: 43.1s\tremaining: 0us\n",
      "        Y_true       Y_pred\n",
      "0  отсутствует  отсутствует\n",
      "1  отсутствует  отсутствует\n",
      "2  отсутствует  отсутствует\n",
      "3  отсутствует  отсутствует\n",
      "4  отсутствует  отсутствует\n",
      "              precision    recall  f1-score   support\n",
      "\n",
      " отсутствует       0.94      1.00      0.97       592\n",
      "      хорошо       1.00      0.38      0.56        26\n",
      "       плохо       1.00      0.78      0.88        96\n",
      "\n",
      "    accuracy                           0.95       714\n",
      "   macro avg       0.98      0.72      0.80       714\n",
      "weighted avg       0.95      0.95      0.94       714\n",
      "\n"
     ]
    }
   ],
   "source": [
    "result = {}\n",
    "\n",
    "for aspect in df_aspects['aspect']:\n",
    "  X, Y = process(answers, aspect)\n",
    "  print('-' * 10, aspect, X.shape[0], '-' * 10)\n",
    "  X_train, _, Y_train, _ = train_test_split(X, Y, test_size=0.00001, random_state=42, shuffle=True)\n",
    "  pool_params = { 'text_features': list(X), 'feature_names': list(X) }\n",
    "  all_pool = Pool(X_train, Y_train, **pool_params)\n",
    "  catboost_default_params.update({ 'iterations': int(best_model[aspect].tree_count_ * 1.2) })\n",
    "\n",
    "  model = CatBoostClassifier(**catboost_default_params)\n",
    "  model.fit(all_pool, early_stopping_rounds=100, plot=True, verbose=100)\n",
    "  result[aspect] = model\n",
    "\n",
    "  comp = pd.DataFrame({'Y_true': Y.iloc[:].values, 'Y_pred': [y for x in model.predict(X) for y in x]})\n",
    "  print(comp.head())\n",
    "  print(classification_report(comp['Y_true'], comp['Y_pred'], target_names=list(set(Y))))\n"
   ]
  },
  {
   "cell_type": "code",
   "execution_count": 16,
   "metadata": {},
   "outputs": [],
   "source": [
    "for k, v in result.items():\n",
    "  k = kinopoisk.ASPECTS[k]\n",
    "  v.save_model(str(Path().parent / 'models' / f'{k}_model'))"
   ]
  },
  {
   "cell_type": "code",
   "execution_count": null,
   "metadata": {},
   "outputs": [],
   "source": [
    "fitted_models = {}\n",
    "\n",
    "for aspect in df_aspects['aspect']:\n",
    "  X, Y = process(answers, aspect)\n",
    "  print('-' * 10, aspect, X.shape, '-' * 10)\n",
    "  X_train, X_test, Y_train, Y_test = train_test_split(X, Y, test_size=0.3, random_state=42, shuffle=True)\n",
    "  pool_params = { 'text_features': list(X), 'feature_names': list(X) }\n",
    "  all_pool = Pool(X, Y, **pool_params)\n",
    "  \n",
    "  (results, models) = cv(\n",
    "    all_pool,\n",
    "    params=catboost_default_params,\n",
    "    fold_count=5,\n",
    "    shuffle=True,\n",
    "    plot=True,\n",
    "    verbose=200,\n",
    "    return_models=True,\n",
    "    early_stopping_rounds=100\n",
    "  )\n",
    "  print(results)\n",
    "  fitted_models[aspect] = models\n",
    "\n",
    "\n"
   ]
  }
 ],
 "metadata": {
  "kernelspec": {
   "display_name": ".venv",
   "language": "python",
   "name": "python3"
  },
  "language_info": {
   "codemirror_mode": {
    "name": "ipython",
    "version": 3
   },
   "file_extension": ".py",
   "mimetype": "text/x-python",
   "name": "python",
   "nbconvert_exporter": "python",
   "pygments_lexer": "ipython3",
   "version": "3.9.6"
  }
 },
 "nbformat": 4,
 "nbformat_minor": 2
}
