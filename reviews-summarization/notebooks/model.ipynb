{
 "cells": [
  {
   "cell_type": "code",
   "execution_count": 1,
   "metadata": {
    "scrolled": true
   },
   "outputs": [
    {
     "name": "stdout",
     "output_type": "stream",
     "text": [
      "Requirement already satisfied: catboost in /Library/Frameworks/Python.framework/Versions/3.10/lib/python3.10/site-packages (1.2.5)\n",
      "Requirement already satisfied: scikit-learn in /Library/Frameworks/Python.framework/Versions/3.10/lib/python3.10/site-packages (1.4.2)\n",
      "Requirement already satisfied: graphviz in /Library/Frameworks/Python.framework/Versions/3.10/lib/python3.10/site-packages (from catboost) (0.20.3)\n",
      "Requirement already satisfied: matplotlib in /Library/Frameworks/Python.framework/Versions/3.10/lib/python3.10/site-packages (from catboost) (3.6.2)\n",
      "Requirement already satisfied: numpy>=1.16.0 in /Library/Frameworks/Python.framework/Versions/3.10/lib/python3.10/site-packages (from catboost) (1.23.4)\n",
      "Requirement already satisfied: pandas>=0.24 in /Library/Frameworks/Python.framework/Versions/3.10/lib/python3.10/site-packages (from catboost) (1.5.1)\n",
      "Requirement already satisfied: scipy in /Library/Frameworks/Python.framework/Versions/3.10/lib/python3.10/site-packages (from catboost) (1.13.0)\n",
      "Requirement already satisfied: plotly in /Library/Frameworks/Python.framework/Versions/3.10/lib/python3.10/site-packages (from catboost) (5.22.0)\n",
      "Requirement already satisfied: six in /Library/Frameworks/Python.framework/Versions/3.10/lib/python3.10/site-packages (from catboost) (1.16.0)\n",
      "Requirement already satisfied: joblib>=1.2.0 in /Library/Frameworks/Python.framework/Versions/3.10/lib/python3.10/site-packages (from scikit-learn) (1.4.2)\n",
      "Requirement already satisfied: threadpoolctl>=2.0.0 in /Library/Frameworks/Python.framework/Versions/3.10/lib/python3.10/site-packages (from scikit-learn) (3.5.0)\n",
      "Requirement already satisfied: python-dateutil>=2.8.1 in /Library/Frameworks/Python.framework/Versions/3.10/lib/python3.10/site-packages (from pandas>=0.24->catboost) (2.8.2)\n",
      "Requirement already satisfied: pytz>=2020.1 in /Library/Frameworks/Python.framework/Versions/3.10/lib/python3.10/site-packages (from pandas>=0.24->catboost) (2022.5)\n",
      "Requirement already satisfied: contourpy>=1.0.1 in /Library/Frameworks/Python.framework/Versions/3.10/lib/python3.10/site-packages (from matplotlib->catboost) (1.0.6)\n",
      "Requirement already satisfied: cycler>=0.10 in /Library/Frameworks/Python.framework/Versions/3.10/lib/python3.10/site-packages (from matplotlib->catboost) (0.11.0)\n",
      "Requirement already satisfied: fonttools>=4.22.0 in /Library/Frameworks/Python.framework/Versions/3.10/lib/python3.10/site-packages (from matplotlib->catboost) (4.38.0)\n",
      "Requirement already satisfied: kiwisolver>=1.0.1 in /Library/Frameworks/Python.framework/Versions/3.10/lib/python3.10/site-packages (from matplotlib->catboost) (1.4.4)\n",
      "Requirement already satisfied: packaging>=20.0 in /Library/Frameworks/Python.framework/Versions/3.10/lib/python3.10/site-packages (from matplotlib->catboost) (24.0)\n",
      "Requirement already satisfied: pillow>=6.2.0 in /Library/Frameworks/Python.framework/Versions/3.10/lib/python3.10/site-packages (from matplotlib->catboost) (9.2.0)\n",
      "Requirement already satisfied: pyparsing>=2.2.1 in /Library/Frameworks/Python.framework/Versions/3.10/lib/python3.10/site-packages (from matplotlib->catboost) (3.0.9)\n",
      "Requirement already satisfied: tenacity>=6.2.0 in /Library/Frameworks/Python.framework/Versions/3.10/lib/python3.10/site-packages (from plotly->catboost) (8.3.0)\n"
     ]
    }
   ],
   "source": [
    "!pip install catboost scikit-learn"
   ]
  },
  {
   "cell_type": "code",
   "execution_count": 2,
   "metadata": {},
   "outputs": [
    {
     "name": "stdout",
     "output_type": "stream",
     "text": [
      "Requirement already satisfied: pymystem3 in /Library/Frameworks/Python.framework/Versions/3.10/lib/python3.10/site-packages (0.2.0)\r\n",
      "Requirement already satisfied: requests in /Library/Frameworks/Python.framework/Versions/3.10/lib/python3.10/site-packages (from pymystem3) (2.32.1)\r\n",
      "Requirement already satisfied: charset-normalizer<4,>=2 in /Library/Frameworks/Python.framework/Versions/3.10/lib/python3.10/site-packages (from requests->pymystem3) (2.1.1)\r\n",
      "Requirement already satisfied: idna<4,>=2.5 in /Library/Frameworks/Python.framework/Versions/3.10/lib/python3.10/site-packages (from requests->pymystem3) (3.4)\r\n",
      "Requirement already satisfied: urllib3<3,>=1.21.1 in /Library/Frameworks/Python.framework/Versions/3.10/lib/python3.10/site-packages (from requests->pymystem3) (1.26.12)\r\n",
      "Requirement already satisfied: certifi>=2017.4.17 in /Library/Frameworks/Python.framework/Versions/3.10/lib/python3.10/site-packages (from requests->pymystem3) (2022.9.24)\r\n"
     ]
    }
   ],
   "source": [
    "!pip install pymystem3"
   ]
  },
  {
   "cell_type": "code",
   "execution_count": 3,
   "metadata": {},
   "outputs": [],
   "source": [
    "import pandas as pd\n",
    "import numpy as np\n",
    "from catboost import Pool, CatBoostClassifier, cv\n",
    "from catboost.text_processing import Tokenizer\n",
    "from pymystem3 import Mystem\n",
    "from sklearn.model_selection import train_test_split\n",
    "from sklearn.metrics import classification_report, precision_score, recall_score\n",
    "from sklearn.model_selection import RandomizedSearchCV\n",
    "import joblib"
   ]
  },
  {
   "cell_type": "code",
   "execution_count": 4,
   "metadata": {},
   "outputs": [],
   "source": [
    "df_answers = pd.read_csv('/Users/darabizina/reviews-summarization/reviews-summarization/notebooks/data/ans_with_alice.csv')\n",
    "df_aspects = pd.read_csv('/Users/darabizina/reviews-summarization/reviews-summarization/notebooks/data/aspects_202405192134.csv')\n",
    "df_reviews = pd.read_csv('/Users/darabizina/reviews-summarization/reviews-summarization/notebooks/data/reviews_202405192134.csv')\n"
   ]
  },
  {
   "cell_type": "code",
   "execution_count": 5,
   "metadata": {},
   "outputs": [],
   "source": [
    "aspects_map = {\n",
    "  df_aspects['id'][x]: df_aspects['aspect'][x]\n",
    "  for x in range(df_aspects.shape[0])\n",
    "}\n",
    "reviews_map = {\n",
    "  df_reviews['id'][x]: df_reviews['review_body'][x]\n",
    "  for x in range(df_reviews.shape[0])\n",
    "}"
   ]
  },
  {
   "cell_type": "code",
   "execution_count": 6,
   "metadata": {},
   "outputs": [
    {
     "data": {
      "text/html": [
       "<div>\n",
       "<style scoped>\n",
       "    .dataframe tbody tr th:only-of-type {\n",
       "        vertical-align: middle;\n",
       "    }\n",
       "\n",
       "    .dataframe tbody tr th {\n",
       "        vertical-align: top;\n",
       "    }\n",
       "\n",
       "    .dataframe thead th {\n",
       "        text-align: right;\n",
       "    }\n",
       "</style>\n",
       "<table border=\"1\" class=\"dataframe\">\n",
       "  <thead>\n",
       "    <tr style=\"text-align: right;\">\n",
       "      <th></th>\n",
       "      <th>review</th>\n",
       "      <th>aspect</th>\n",
       "      <th>answer</th>\n",
       "    </tr>\n",
       "  </thead>\n",
       "  <tbody>\n",
       "    <tr>\n",
       "      <th>0</th>\n",
       "      <td>Какие только безумно-замечательные идеи не при...</td>\n",
       "      <td>Эмоциональное воздействие</td>\n",
       "      <td>плохо</td>\n",
       "    </tr>\n",
       "    <tr>\n",
       "      <th>1</th>\n",
       "      <td>Этот фильм, можно сказать, путеводитель по стр...</td>\n",
       "      <td>Юмор</td>\n",
       "      <td>плохо</td>\n",
       "    </tr>\n",
       "    <tr>\n",
       "      <th>2</th>\n",
       "      <td>На фильм я пошел благодаря высокому рейтингу К...</td>\n",
       "      <td>Визуальные эффекты</td>\n",
       "      <td>отсутствует</td>\n",
       "    </tr>\n",
       "    <tr>\n",
       "      <th>3</th>\n",
       "      <td>Возможно ли прожить жизнь с улыбкой на лице? С...</td>\n",
       "      <td>Саундтрек/музыка</td>\n",
       "      <td>отсутствует</td>\n",
       "    </tr>\n",
       "    <tr>\n",
       "      <th>4</th>\n",
       "      <td>Подмечу важное, фильмы 'о мальчике который выж...</td>\n",
       "      <td>Саундтрек/музыка</td>\n",
       "      <td>отсутствует</td>\n",
       "    </tr>\n",
       "  </tbody>\n",
       "</table>\n",
       "</div>"
      ],
      "text/plain": [
       "                                              review  \\\n",
       "0  Какие только безумно-замечательные идеи не при...   \n",
       "1  Этот фильм, можно сказать, путеводитель по стр...   \n",
       "2  На фильм я пошел благодаря высокому рейтингу К...   \n",
       "3  Возможно ли прожить жизнь с улыбкой на лице? С...   \n",
       "4  Подмечу важное, фильмы 'о мальчике который выж...   \n",
       "\n",
       "                      aspect       answer  \n",
       "0  Эмоциональное воздействие        плохо  \n",
       "1                       Юмор        плохо  \n",
       "2         Визуальные эффекты  отсутствует  \n",
       "3           Саундтрек/музыка  отсутствует  \n",
       "4           Саундтрек/музыка  отсутствует  "
      ]
     },
     "execution_count": 6,
     "metadata": {},
     "output_type": "execute_result"
    }
   ],
   "source": [
    "aspect_state = {\n",
    "  1: 'хорошо',\n",
    "  0: 'плохо',\n",
    "  2: 'отсутствует',\n",
    "  3: 'skip',\n",
    "}\n",
    "\n",
    "answers = pd.DataFrame(columns=['review', 'aspect', 'answer'])\n",
    "for ind, row in df_answers.iterrows():\n",
    "  review = reviews_map.get(row.review)\n",
    "  aspect = aspects_map.get(row.aspect)\n",
    "  answer = aspect_state[row.answer]\n",
    "  answers.loc[ind] = [review, aspect, answer]\n",
    "\n",
    "answers.head()"
   ]
  },
  {
   "cell_type": "code",
   "execution_count": 7,
   "metadata": {},
   "outputs": [],
   "source": [
    "simple_tokenizer = Tokenizer(lowercasing=True, separator_type='BySense', token_types=['Word', 'Number', 'Punctuation'])\n",
    "\n",
    "def tokenize_texts(texts):\n",
    "    return [' '.join(simple_tokenizer.tokenize(text)) for text in texts]"
   ]
  },
  {
   "cell_type": "code",
   "execution_count": 8,
   "metadata": {},
   "outputs": [],
   "source": [
    "mystem = Mystem()\n",
    "\n",
    "def lemmatize_text(text):\n",
    "    lemmas = mystem.lemmatize(text)\n",
    "    return ''.join(lemmas).strip()"
   ]
  },
  {
   "cell_type": "code",
   "execution_count": 9,
   "metadata": {},
   "outputs": [],
   "source": [
    "answers['review'] = answers['review'].apply(lambda x: ' '.join(simple_tokenizer.tokenize(x)))\n",
    "answers['review'] = answers['review'].apply(lemmatize_text)\n",
    "text_features = ['review']\n",
    "cat_features = ['aspect']"
   ]
  },
  {
   "cell_type": "code",
   "execution_count": 10,
   "metadata": {},
   "outputs": [],
   "source": [
    "X = answers.drop(['answer'], axis=1)\n",
    "y = answers['answer']\n",
    "\n",
    "X_train, X_test, y_train, y_test = train_test_split(X, y, test_size=0.2, random_state=42)"
   ]
  },
  {
   "cell_type": "code",
   "execution_count": 11,
   "metadata": {},
   "outputs": [],
   "source": [
    "aspects_list = [\n",
    "    'Режиссерская работа', \n",
    "    'Саундтрек/музыка',\n",
    "    'Актерская игра', \n",
    "    'Визуальные эффекты',\n",
    "    'Эмоциональное воздействие',\n",
    "    'Раскрытие темы', \n",
    "    'Оригинальность сюжета',\n",
    "    'Юмор',\n",
    "    'Дизайн постановки/костюмов'\n",
    "]"
   ]
  },
  {
   "cell_type": "code",
   "execution_count": 12,
   "metadata": {},
   "outputs": [
    {
     "name": "stdout",
     "output_type": "stream",
     "text": [
      "Training and evaluating model for aspect: Режиссерская работа\n",
      "0:\tlearn: 0.7948718\ttest: 0.7848101\tbest: 0.7848101 (0)\ttotal: 827ms\tremaining: 2h 17m 48s\n",
      "Stopped by overfitting detector  (20 iterations wait)\n",
      "\n",
      "bestTest = 0.8101265823\n",
      "bestIteration = 1\n",
      "\n",
      "Shrink model to first 2 iterations.\n",
      "Classification Report for aspect: Режиссерская работа\n",
      "              precision    recall  f1-score   support\n",
      "\n",
      " отсутствует       0.00      0.00      0.00         7\n",
      "       плохо       0.00      0.00      0.00         8\n",
      "      хорошо       0.81      1.00      0.90        64\n",
      "\n",
      "    accuracy                           0.81        79\n",
      "   macro avg       0.27      0.33      0.30        79\n",
      "weighted avg       0.66      0.81      0.73        79\n",
      "\n",
      "Precision for aspect Режиссерская работа: 0.270042194092827\n",
      "Recall for aspect Режиссерская работа: 0.3333333333333333\n",
      "\n",
      "\n",
      "Training and evaluating model for aspect: Саундтрек/музыка\n"
     ]
    },
    {
     "name": "stderr",
     "output_type": "stream",
     "text": [
      "/Library/Frameworks/Python.framework/Versions/3.10/lib/python3.10/site-packages/sklearn/metrics/_classification.py:1509: UndefinedMetricWarning: Precision is ill-defined and being set to 0.0 in labels with no predicted samples. Use `zero_division` parameter to control this behavior.\n",
      "  _warn_prf(average, modifier, f\"{metric.capitalize()} is\", len(result))\n",
      "/Library/Frameworks/Python.framework/Versions/3.10/lib/python3.10/site-packages/sklearn/metrics/_classification.py:1509: UndefinedMetricWarning: Precision is ill-defined and being set to 0.0 in labels with no predicted samples. Use `zero_division` parameter to control this behavior.\n",
      "  _warn_prf(average, modifier, f\"{metric.capitalize()} is\", len(result))\n",
      "/Library/Frameworks/Python.framework/Versions/3.10/lib/python3.10/site-packages/sklearn/metrics/_classification.py:1509: UndefinedMetricWarning: Precision is ill-defined and being set to 0.0 in labels with no predicted samples. Use `zero_division` parameter to control this behavior.\n",
      "  _warn_prf(average, modifier, f\"{metric.capitalize()} is\", len(result))\n",
      "/Library/Frameworks/Python.framework/Versions/3.10/lib/python3.10/site-packages/sklearn/metrics/_classification.py:1509: UndefinedMetricWarning: Precision is ill-defined and being set to 0.0 in labels with no predicted samples. Use `zero_division` parameter to control this behavior.\n",
      "  _warn_prf(average, modifier, f\"{metric.capitalize()} is\", len(result))\n"
     ]
    },
    {
     "name": "stdout",
     "output_type": "stream",
     "text": [
      "0:\tlearn: 0.5798611\ttest: 0.6027397\tbest: 0.6027397 (0)\ttotal: 382ms\tremaining: 1h 3m 41s\n",
      "Stopped by overfitting detector  (20 iterations wait)\n",
      "\n",
      "bestTest = 0.602739726\n",
      "bestIteration = 0\n",
      "\n",
      "Shrink model to first 1 iterations.\n",
      "Classification Report for aspect: Саундтрек/музыка\n",
      "              precision    recall  f1-score   support\n",
      "\n",
      " отсутствует       0.80      0.14      0.24        29\n",
      "       плохо       0.00      0.00      0.00         3\n",
      "      хорошо       0.59      0.98      0.73        41\n",
      "\n",
      "    accuracy                           0.60        73\n",
      "   macro avg       0.46      0.37      0.32        73\n",
      "weighted avg       0.65      0.60      0.51        73\n",
      "\n",
      "Precision for aspect Саундтрек/музыка: 0.46274509803921565\n",
      "Recall for aspect Саундтрек/музыка: 0.3711802635267732\n",
      "\n",
      "\n",
      "Training and evaluating model for aspect: Актерская игра\n"
     ]
    },
    {
     "name": "stderr",
     "output_type": "stream",
     "text": [
      "/Library/Frameworks/Python.framework/Versions/3.10/lib/python3.10/site-packages/sklearn/metrics/_classification.py:1509: UndefinedMetricWarning: Precision is ill-defined and being set to 0.0 in labels with no predicted samples. Use `zero_division` parameter to control this behavior.\n",
      "  _warn_prf(average, modifier, f\"{metric.capitalize()} is\", len(result))\n",
      "/Library/Frameworks/Python.framework/Versions/3.10/lib/python3.10/site-packages/sklearn/metrics/_classification.py:1509: UndefinedMetricWarning: Precision is ill-defined and being set to 0.0 in labels with no predicted samples. Use `zero_division` parameter to control this behavior.\n",
      "  _warn_prf(average, modifier, f\"{metric.capitalize()} is\", len(result))\n",
      "/Library/Frameworks/Python.framework/Versions/3.10/lib/python3.10/site-packages/sklearn/metrics/_classification.py:1509: UndefinedMetricWarning: Precision is ill-defined and being set to 0.0 in labels with no predicted samples. Use `zero_division` parameter to control this behavior.\n",
      "  _warn_prf(average, modifier, f\"{metric.capitalize()} is\", len(result))\n",
      "/Library/Frameworks/Python.framework/Versions/3.10/lib/python3.10/site-packages/sklearn/metrics/_classification.py:1509: UndefinedMetricWarning: Precision is ill-defined and being set to 0.0 in labels with no predicted samples. Use `zero_division` parameter to control this behavior.\n",
      "  _warn_prf(average, modifier, f\"{metric.capitalize()} is\", len(result))\n"
     ]
    },
    {
     "name": "stdout",
     "output_type": "stream",
     "text": [
      "0:\tlearn: 0.8006536\ttest: 0.7532468\tbest: 0.7532468 (0)\ttotal: 494ms\tremaining: 1h 22m 14s\n",
      "Stopped by overfitting detector  (20 iterations wait)\n",
      "\n",
      "bestTest = 0.7662337662\n",
      "bestIteration = 1\n",
      "\n",
      "Shrink model to first 2 iterations.\n",
      "Classification Report for aspect: Актерская игра\n",
      "              precision    recall  f1-score   support\n",
      "\n",
      " отсутствует       0.00      0.00      0.00        16\n",
      "       плохо       0.00      0.00      0.00         2\n",
      "      хорошо       0.77      1.00      0.87        59\n",
      "\n",
      "    accuracy                           0.77        77\n",
      "   macro avg       0.26      0.33      0.29        77\n",
      "weighted avg       0.59      0.77      0.66        77\n",
      "\n",
      "Precision for aspect Актерская игра: 0.2554112554112554\n",
      "Recall for aspect Актерская игра: 0.3333333333333333\n",
      "\n",
      "\n",
      "Training and evaluating model for aspect: Визуальные эффекты\n"
     ]
    },
    {
     "name": "stderr",
     "output_type": "stream",
     "text": [
      "/Library/Frameworks/Python.framework/Versions/3.10/lib/python3.10/site-packages/sklearn/metrics/_classification.py:1509: UndefinedMetricWarning: Precision is ill-defined and being set to 0.0 in labels with no predicted samples. Use `zero_division` parameter to control this behavior.\n",
      "  _warn_prf(average, modifier, f\"{metric.capitalize()} is\", len(result))\n",
      "/Library/Frameworks/Python.framework/Versions/3.10/lib/python3.10/site-packages/sklearn/metrics/_classification.py:1509: UndefinedMetricWarning: Precision is ill-defined and being set to 0.0 in labels with no predicted samples. Use `zero_division` parameter to control this behavior.\n",
      "  _warn_prf(average, modifier, f\"{metric.capitalize()} is\", len(result))\n",
      "/Library/Frameworks/Python.framework/Versions/3.10/lib/python3.10/site-packages/sklearn/metrics/_classification.py:1509: UndefinedMetricWarning: Precision is ill-defined and being set to 0.0 in labels with no predicted samples. Use `zero_division` parameter to control this behavior.\n",
      "  _warn_prf(average, modifier, f\"{metric.capitalize()} is\", len(result))\n",
      "/Library/Frameworks/Python.framework/Versions/3.10/lib/python3.10/site-packages/sklearn/metrics/_classification.py:1509: UndefinedMetricWarning: Precision is ill-defined and being set to 0.0 in labels with no predicted samples. Use `zero_division` parameter to control this behavior.\n",
      "  _warn_prf(average, modifier, f\"{metric.capitalize()} is\", len(result))\n"
     ]
    },
    {
     "name": "stdout",
     "output_type": "stream",
     "text": [
      "0:\tlearn: 0.5782313\ttest: 0.5270270\tbest: 0.5270270 (0)\ttotal: 440ms\tremaining: 1h 13m 20s\n",
      "Stopped by overfitting detector  (20 iterations wait)\n",
      "\n",
      "bestTest = 0.5675675676\n",
      "bestIteration = 3\n",
      "\n",
      "Shrink model to first 4 iterations.\n",
      "Classification Report for aspect: Визуальные эффекты\n",
      "              precision    recall  f1-score   support\n",
      "\n",
      " отсутствует       0.80      0.12      0.21        34\n",
      "       плохо       0.00      0.00      0.00         1\n",
      "      хорошо       0.55      0.97      0.70        39\n",
      "\n",
      "    accuracy                           0.57        74\n",
      "   macro avg       0.45      0.36      0.30        74\n",
      "weighted avg       0.66      0.57      0.47        74\n",
      "\n",
      "Precision for aspect Визуальные эффекты: 0.45024154589371984\n",
      "Recall for aspect Визуальные эффекты: 0.3640020110608346\n",
      "\n",
      "\n",
      "Training and evaluating model for aspect: Эмоциональное воздействие\n"
     ]
    },
    {
     "name": "stderr",
     "output_type": "stream",
     "text": [
      "/Library/Frameworks/Python.framework/Versions/3.10/lib/python3.10/site-packages/sklearn/metrics/_classification.py:1509: UndefinedMetricWarning: Precision is ill-defined and being set to 0.0 in labels with no predicted samples. Use `zero_division` parameter to control this behavior.\n",
      "  _warn_prf(average, modifier, f\"{metric.capitalize()} is\", len(result))\n",
      "/Library/Frameworks/Python.framework/Versions/3.10/lib/python3.10/site-packages/sklearn/metrics/_classification.py:1509: UndefinedMetricWarning: Precision is ill-defined and being set to 0.0 in labels with no predicted samples. Use `zero_division` parameter to control this behavior.\n",
      "  _warn_prf(average, modifier, f\"{metric.capitalize()} is\", len(result))\n",
      "/Library/Frameworks/Python.framework/Versions/3.10/lib/python3.10/site-packages/sklearn/metrics/_classification.py:1509: UndefinedMetricWarning: Precision is ill-defined and being set to 0.0 in labels with no predicted samples. Use `zero_division` parameter to control this behavior.\n",
      "  _warn_prf(average, modifier, f\"{metric.capitalize()} is\", len(result))\n",
      "/Library/Frameworks/Python.framework/Versions/3.10/lib/python3.10/site-packages/sklearn/metrics/_classification.py:1509: UndefinedMetricWarning: Precision is ill-defined and being set to 0.0 in labels with no predicted samples. Use `zero_division` parameter to control this behavior.\n",
      "  _warn_prf(average, modifier, f\"{metric.capitalize()} is\", len(result))\n"
     ]
    },
    {
     "name": "stdout",
     "output_type": "stream",
     "text": [
      "0:\tlearn: 0.8287671\ttest: 0.8493151\tbest: 0.8493151 (0)\ttotal: 435ms\tremaining: 1h 12m 34s\n",
      "Stopped by overfitting detector  (20 iterations wait)\n",
      "\n",
      "bestTest = 0.8493150685\n",
      "bestIteration = 0\n",
      "\n",
      "Shrink model to first 1 iterations.\n",
      "Classification Report for aspect: Эмоциональное воздействие\n",
      "              precision    recall  f1-score   support\n",
      "\n",
      " отсутствует       0.00      0.00      0.00         2\n",
      "       плохо       1.00      0.10      0.18        10\n",
      "      хорошо       0.86      1.00      0.92        61\n",
      "\n",
      "    accuracy                           0.85        73\n",
      "   macro avg       0.62      0.37      0.37        73\n",
      "weighted avg       0.85      0.85      0.80        73\n",
      "\n",
      "Precision for aspect Эмоциональное воздействие: 0.6197183098591549\n",
      "Recall for aspect Эмоциональное воздействие: 0.3666666666666667\n",
      "\n",
      "\n",
      "Training and evaluating model for aspect: Раскрытие темы\n",
      "0:\tlearn: 0.8029197\ttest: 0.7826087\tbest: 0.7826087 (0)\ttotal: 441ms\tremaining: 1h 13m 26s\n",
      "Stopped by overfitting detector  (20 iterations wait)\n",
      "\n",
      "bestTest = 0.7826086957\n",
      "bestIteration = 0\n",
      "\n",
      "Shrink model to first 1 iterations.\n",
      "Classification Report for aspect: Раскрытие темы\n",
      "              precision    recall  f1-score   support\n",
      "\n",
      " отсутствует       0.00      0.00      0.00         9\n",
      "       плохо       0.00      0.00      0.00         6\n",
      "      хорошо       0.78      1.00      0.88        54\n",
      "\n",
      "    accuracy                           0.78        69\n",
      "   macro avg       0.26      0.33      0.29        69\n",
      "weighted avg       0.61      0.78      0.69        69\n",
      "\n",
      "Precision for aspect Раскрытие темы: 0.2608695652173913\n",
      "Recall for aspect Раскрытие темы: 0.3333333333333333\n",
      "\n",
      "\n",
      "Training and evaluating model for aspect: Оригинальность сюжета\n"
     ]
    },
    {
     "name": "stderr",
     "output_type": "stream",
     "text": [
      "/Library/Frameworks/Python.framework/Versions/3.10/lib/python3.10/site-packages/sklearn/metrics/_classification.py:1509: UndefinedMetricWarning: Precision is ill-defined and being set to 0.0 in labels with no predicted samples. Use `zero_division` parameter to control this behavior.\n",
      "  _warn_prf(average, modifier, f\"{metric.capitalize()} is\", len(result))\n",
      "/Library/Frameworks/Python.framework/Versions/3.10/lib/python3.10/site-packages/sklearn/metrics/_classification.py:1509: UndefinedMetricWarning: Precision is ill-defined and being set to 0.0 in labels with no predicted samples. Use `zero_division` parameter to control this behavior.\n",
      "  _warn_prf(average, modifier, f\"{metric.capitalize()} is\", len(result))\n",
      "/Library/Frameworks/Python.framework/Versions/3.10/lib/python3.10/site-packages/sklearn/metrics/_classification.py:1509: UndefinedMetricWarning: Precision is ill-defined and being set to 0.0 in labels with no predicted samples. Use `zero_division` parameter to control this behavior.\n",
      "  _warn_prf(average, modifier, f\"{metric.capitalize()} is\", len(result))\n",
      "/Library/Frameworks/Python.framework/Versions/3.10/lib/python3.10/site-packages/sklearn/metrics/_classification.py:1509: UndefinedMetricWarning: Precision is ill-defined and being set to 0.0 in labels with no predicted samples. Use `zero_division` parameter to control this behavior.\n",
      "  _warn_prf(average, modifier, f\"{metric.capitalize()} is\", len(result))\n"
     ]
    },
    {
     "name": "stdout",
     "output_type": "stream",
     "text": [
      "0:\tlearn: 0.7137809\ttest: 0.6478873\tbest: 0.6478873 (0)\ttotal: 494ms\tremaining: 1h 22m 19s\n",
      "Stopped by overfitting detector  (20 iterations wait)\n",
      "\n",
      "bestTest = 0.6478873239\n",
      "bestIteration = 0\n",
      "\n",
      "Shrink model to first 1 iterations.\n",
      "Classification Report for aspect: Оригинальность сюжета\n",
      "              precision    recall  f1-score   support\n",
      "\n",
      " отсутствует       0.50      0.06      0.11        17\n",
      "       плохо       0.00      0.00      0.00         8\n",
      "      хорошо       0.65      0.98      0.78        46\n",
      "\n",
      "    accuracy                           0.65        71\n",
      "   macro avg       0.38      0.35      0.30        71\n",
      "weighted avg       0.54      0.65      0.53        71\n",
      "\n",
      "Precision for aspect Оригинальность сюжета: 0.38405797101449274\n",
      "Recall for aspect Оригинальность сюжета: 0.345694799658994\n",
      "\n",
      "\n",
      "Training and evaluating model for aspect: Юмор\n"
     ]
    },
    {
     "name": "stderr",
     "output_type": "stream",
     "text": [
      "/Library/Frameworks/Python.framework/Versions/3.10/lib/python3.10/site-packages/sklearn/metrics/_classification.py:1509: UndefinedMetricWarning: Precision is ill-defined and being set to 0.0 in labels with no predicted samples. Use `zero_division` parameter to control this behavior.\n",
      "  _warn_prf(average, modifier, f\"{metric.capitalize()} is\", len(result))\n",
      "/Library/Frameworks/Python.framework/Versions/3.10/lib/python3.10/site-packages/sklearn/metrics/_classification.py:1509: UndefinedMetricWarning: Precision is ill-defined and being set to 0.0 in labels with no predicted samples. Use `zero_division` parameter to control this behavior.\n",
      "  _warn_prf(average, modifier, f\"{metric.capitalize()} is\", len(result))\n",
      "/Library/Frameworks/Python.framework/Versions/3.10/lib/python3.10/site-packages/sklearn/metrics/_classification.py:1509: UndefinedMetricWarning: Precision is ill-defined and being set to 0.0 in labels with no predicted samples. Use `zero_division` parameter to control this behavior.\n",
      "  _warn_prf(average, modifier, f\"{metric.capitalize()} is\", len(result))\n",
      "/Library/Frameworks/Python.framework/Versions/3.10/lib/python3.10/site-packages/sklearn/metrics/_classification.py:1509: UndefinedMetricWarning: Precision is ill-defined and being set to 0.0 in labels with no predicted samples. Use `zero_division` parameter to control this behavior.\n",
      "  _warn_prf(average, modifier, f\"{metric.capitalize()} is\", len(result))\n"
     ]
    },
    {
     "name": "stdout",
     "output_type": "stream",
     "text": [
      "0:\tlearn: 0.5615942\ttest: 0.4428571\tbest: 0.4428571 (0)\ttotal: 632ms\tremaining: 1h 45m 21s\n",
      "Stopped by overfitting detector  (20 iterations wait)\n",
      "\n",
      "bestTest = 0.4428571429\n",
      "bestIteration = 0\n",
      "\n",
      "Shrink model to first 1 iterations.\n",
      "Classification Report for aspect: Юмор\n",
      "              precision    recall  f1-score   support\n",
      "\n",
      " отсутствует       0.67      0.22      0.33        37\n",
      "       плохо       0.00      0.00      0.00         6\n",
      "      хорошо       0.40      0.85      0.54        27\n",
      "\n",
      "    accuracy                           0.44        70\n",
      "   macro avg       0.35      0.36      0.29        70\n",
      "weighted avg       0.51      0.44      0.38        70\n",
      "\n",
      "Precision for aspect Юмор: 0.35440613026819917\n",
      "Recall for aspect Юмор: 0.3560226893560227\n",
      "\n",
      "\n",
      "Training and evaluating model for aspect: Дизайн постановки/костюмов\n"
     ]
    },
    {
     "name": "stderr",
     "output_type": "stream",
     "text": [
      "/Library/Frameworks/Python.framework/Versions/3.10/lib/python3.10/site-packages/sklearn/metrics/_classification.py:1509: UndefinedMetricWarning: Precision is ill-defined and being set to 0.0 in labels with no predicted samples. Use `zero_division` parameter to control this behavior.\n",
      "  _warn_prf(average, modifier, f\"{metric.capitalize()} is\", len(result))\n",
      "/Library/Frameworks/Python.framework/Versions/3.10/lib/python3.10/site-packages/sklearn/metrics/_classification.py:1509: UndefinedMetricWarning: Precision is ill-defined and being set to 0.0 in labels with no predicted samples. Use `zero_division` parameter to control this behavior.\n",
      "  _warn_prf(average, modifier, f\"{metric.capitalize()} is\", len(result))\n",
      "/Library/Frameworks/Python.framework/Versions/3.10/lib/python3.10/site-packages/sklearn/metrics/_classification.py:1509: UndefinedMetricWarning: Precision is ill-defined and being set to 0.0 in labels with no predicted samples. Use `zero_division` parameter to control this behavior.\n",
      "  _warn_prf(average, modifier, f\"{metric.capitalize()} is\", len(result))\n",
      "/Library/Frameworks/Python.framework/Versions/3.10/lib/python3.10/site-packages/sklearn/metrics/_classification.py:1509: UndefinedMetricWarning: Precision is ill-defined and being set to 0.0 in labels with no predicted samples. Use `zero_division` parameter to control this behavior.\n",
      "  _warn_prf(average, modifier, f\"{metric.capitalize()} is\", len(result))\n"
     ]
    },
    {
     "name": "stdout",
     "output_type": "stream",
     "text": [
      "0:\tlearn: 0.6230769\ttest: 0.4545455\tbest: 0.4545455 (0)\ttotal: 579ms\tremaining: 1h 36m 28s\n",
      "Stopped by overfitting detector  (20 iterations wait)\n",
      "\n",
      "bestTest = 0.5151515152\n",
      "bestIteration = 1\n",
      "\n",
      "Shrink model to first 2 iterations.\n",
      "Classification Report for aspect: Дизайн постановки/костюмов\n",
      "              precision    recall  f1-score   support\n",
      "\n",
      " отсутствует       1.00      0.12      0.21        34\n",
      "       плохо       0.00      0.00      0.00         2\n",
      "      хорошо       0.48      1.00      0.65        30\n",
      "\n",
      "    accuracy                           0.52        66\n",
      "   macro avg       0.49      0.37      0.29        66\n",
      "weighted avg       0.74      0.52      0.40        66\n",
      "\n",
      "Precision for aspect Дизайн постановки/костюмов: 0.4946236559139785\n",
      "Recall for aspect Дизайн постановки/костюмов: 0.37254901960784315\n",
      "\n",
      "\n"
     ]
    },
    {
     "name": "stderr",
     "output_type": "stream",
     "text": [
      "/Library/Frameworks/Python.framework/Versions/3.10/lib/python3.10/site-packages/sklearn/metrics/_classification.py:1509: UndefinedMetricWarning: Precision is ill-defined and being set to 0.0 in labels with no predicted samples. Use `zero_division` parameter to control this behavior.\n",
      "  _warn_prf(average, modifier, f\"{metric.capitalize()} is\", len(result))\n",
      "/Library/Frameworks/Python.framework/Versions/3.10/lib/python3.10/site-packages/sklearn/metrics/_classification.py:1509: UndefinedMetricWarning: Precision is ill-defined and being set to 0.0 in labels with no predicted samples. Use `zero_division` parameter to control this behavior.\n",
      "  _warn_prf(average, modifier, f\"{metric.capitalize()} is\", len(result))\n",
      "/Library/Frameworks/Python.framework/Versions/3.10/lib/python3.10/site-packages/sklearn/metrics/_classification.py:1509: UndefinedMetricWarning: Precision is ill-defined and being set to 0.0 in labels with no predicted samples. Use `zero_division` parameter to control this behavior.\n",
      "  _warn_prf(average, modifier, f\"{metric.capitalize()} is\", len(result))\n",
      "/Library/Frameworks/Python.framework/Versions/3.10/lib/python3.10/site-packages/sklearn/metrics/_classification.py:1509: UndefinedMetricWarning: Precision is ill-defined and being set to 0.0 in labels with no predicted samples. Use `zero_division` parameter to control this behavior.\n",
      "  _warn_prf(average, modifier, f\"{metric.capitalize()} is\", len(result))\n"
     ]
    }
   ],
   "source": [
    "models = {}\n",
    "\n",
    "for aspect in aspects_list:\n",
    "    print(f\"Training and evaluating model for aspect: {aspect}\")\n",
    "    \n",
    "    df_aspect = answers[answers['aspect'] == aspect]\n",
    "    X_aspect = df_aspect.drop(['answer'], axis=1)\n",
    "    y_aspect = df_aspect['answer']\n",
    "    \n",
    "    X_train_aspect, X_test_aspect, y_train_aspect, y_test_aspect = train_test_split(X_aspect, y_aspect, test_size=0.2, random_state=42)\n",
    "    \n",
    "    train_pool_aspect = Pool(\n",
    "        data=X_train_aspect, \n",
    "        label=y_train_aspect, \n",
    "        cat_features=cat_features, \n",
    "        text_features=text_features,\n",
    "        feature_names=list(X_train_aspect)\n",
    "    )\n",
    "    \n",
    "    test_pool_aspect = Pool(\n",
    "        data=X_test_aspect, \n",
    "        label=y_test_aspect, \n",
    "        cat_features=cat_features, \n",
    "        text_features=text_features,\n",
    "        feature_names=list(X_test_aspect)\n",
    "    )\n",
    "    \n",
    "    model_aspect = CatBoostClassifier(\n",
    "        iterations=10_000,\n",
    "        learning_rate=0.01,\n",
    "        depth=6,\n",
    "        early_stopping_rounds=20,\n",
    "        eval_metric='Accuracy'\n",
    "    )\n",
    "    \n",
    "    model_aspect.fit(train_pool_aspect, eval_set=test_pool_aspect, verbose=100)\n",
    "    \n",
    "    y_pred_aspect = model_aspect.predict(test_pool_aspect)\n",
    "    \n",
    "    print(f\"Classification Report for aspect: {aspect}\")\n",
    "    print(classification_report(y_test_aspect, y_pred_aspect))\n",
    "    \n",
    "    precision_aspect = precision_score(y_test_aspect, y_pred_aspect, average='macro')\n",
    "    recall_aspect = recall_score(y_test_aspect, y_pred_aspect, average='macro')\n",
    "    \n",
    "    print(f\"Precision for aspect {aspect}: {precision_aspect}\")\n",
    "    print(f\"Recall for aspect {aspect}: {recall_aspect}\")\n",
    "    print(\"\\n\")\n",
    "    \n",
    "    models[aspect] = model_aspect"
   ]
  },
  {
   "cell_type": "code",
   "execution_count": 13,
   "metadata": {},
   "outputs": [],
   "source": [
    "joblib.dump(models, 'trained_models.joblib')\n",
    "loaded_models = joblib.load('trained_models.joblib')"
   ]
  },
  {
   "cell_type": "code",
   "execution_count": null,
   "metadata": {},
   "outputs": [],
   "source": []
  }
 ],
 "metadata": {
  "kernelspec": {
   "display_name": "Python 3 (ipykernel)",
   "language": "python",
   "name": "python3"
  },
  "language_info": {
   "codemirror_mode": {
    "name": "ipython",
    "version": 3
   },
   "file_extension": ".py",
   "mimetype": "text/x-python",
   "name": "python",
   "nbconvert_exporter": "python",
   "pygments_lexer": "ipython3",
   "version": "3.10.6"
  }
 },
 "nbformat": 4,
 "nbformat_minor": 2
}
